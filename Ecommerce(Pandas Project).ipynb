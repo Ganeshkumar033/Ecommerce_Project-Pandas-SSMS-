{
 "cells": [
  {
   "cell_type": "markdown",
   "id": "bdae2ba6-4dab-4769-82e2-c9eef45e15a1",
   "metadata": {},
   "source": [
    "# E-Commerce Project(Pandas):"
   ]
  },
  {
   "cell_type": "code",
   "execution_count": 1,
   "id": "5f868a98-0440-446f-8355-138167266b18",
   "metadata": {},
   "outputs": [
    {
     "name": "stdout",
     "output_type": "stream",
     "text": [
      "Requirement already satisfied: numpy in c:\\users\\user\\anaconda3\\lib\\site-packages (1.26.4)\n",
      "Requirement already satisfied: pandas in c:\\users\\user\\anaconda3\\lib\\site-packages (2.2.2)\n",
      "Requirement already satisfied: numpy>=1.26.0 in c:\\users\\user\\anaconda3\\lib\\site-packages (from pandas) (1.26.4)\n",
      "Requirement already satisfied: python-dateutil>=2.8.2 in c:\\users\\user\\appdata\\roaming\\python\\python312\\site-packages (from pandas) (2.8.2)\n",
      "Requirement already satisfied: pytz>=2020.1 in c:\\users\\user\\anaconda3\\lib\\site-packages (from pandas) (2024.1)\n",
      "Requirement already satisfied: tzdata>=2022.7 in c:\\users\\user\\anaconda3\\lib\\site-packages (from pandas) (2023.3)\n",
      "Requirement already satisfied: six>=1.5 in c:\\users\\user\\appdata\\roaming\\python\\python312\\site-packages (from python-dateutil>=2.8.2->pandas) (1.16.0)\n",
      "Requirement already satisfied: pyodbc in c:\\users\\user\\anaconda3\\lib\\site-packages (5.1.0)\n"
     ]
    }
   ],
   "source": [
    "!pip install numpy\n",
    "!pip install pandas\n",
    "!pip install pyodbc"
   ]
  },
  {
   "cell_type": "code",
   "execution_count": 40,
   "id": "534048f0-c9d4-4f17-82ad-44e7e080b5b8",
   "metadata": {},
   "outputs": [],
   "source": [
    "import numpy as np"
   ]
  },
  {
   "cell_type": "code",
   "execution_count": 41,
   "id": "e37071d7-3f3d-4ef9-98c3-834a15adf9fa",
   "metadata": {},
   "outputs": [
    {
     "name": "stdout",
     "output_type": "stream",
     "text": [
      "   OrderID  CustomerID   OrderDate  ProductID ProductCategory ProductName  \\\n",
      "0   100001        4174  2024-05-28        370          Beauty      Item E   \n",
      "1   100002        4507  2024-11-21        169  Home & Kitchen      Item A   \n",
      "2   100003        1860  2022-09-29        284            Toys      Item E   \n",
      "3   100004        2294  2024-04-15        327            Toys      Item C   \n",
      "4   100005        2130  2023-01-03        168           Books      Item D   \n",
      "\n",
      "   Quantity  PricePerUnit  Discount PaymentMethod CustomerLocation  \\\n",
      "0         2    237.429993      0.00           UPI          Central   \n",
      "1         3    415.809998      0.05   Credit Card          Central   \n",
      "2         7    475.220001      0.22           UPI            North   \n",
      "3         8    226.440002      0.26   Credit Card             West   \n",
      "4         7    209.880005      0.10   Net Banking             West   \n",
      "\n",
      "   DeliveryTimeDays DeliveryStatus  SellerID  Rating   TotalPrice  \n",
      "0                14      Delivered       282     1.4   474.859985  \n",
      "1                10       Returned       235     2.0  1185.058472  \n",
      "2                 8      Delivered       260     4.7  2594.701172  \n",
      "3                 9       Returned       212     5.0  1340.524780  \n",
      "4                 4      Delivered       267     4.3  1322.244019  \n"
     ]
    }
   ],
   "source": [
    "from warnings import filterwarnings\n",
    "import pyodbc\n",
    "import pandas as pd\n",
    "\n",
    "filterwarnings('ignore')\n",
    "\n",
    "# Define Connection\n",
    "conn = pyodbc.connect(\n",
    "    'DRIVER={ODBC Driver 17 for SQL Server};'\n",
    "    'SERVER=LAPTOP-IDSEH902\\\\SQLEXPRESS;'\n",
    "    'DATABASE=Hospital;'\n",
    "    'Trusted_Connection=yes;'\n",
    ")\n",
    "\n",
    "# Query the Table\n",
    "query = \"SELECT * FROM Ecommerce\"\n",
    "df = pd.read_sql_query(query, conn)\n",
    "\n",
    "# Display the Data\n",
    "print(df.head())"
   ]
  },
  {
   "cell_type": "code",
   "execution_count": 41,
   "id": "861108de-1d5c-4692-9c56-7712c1662e0b",
   "metadata": {},
   "outputs": [
    {
     "name": "stdout",
     "output_type": "stream",
     "text": [
      "   OrderID  CustomerID   OrderDate  ProductID ProductCategory ProductName  \\\n",
      "0   100001        4174  2024-05-28        370          Beauty      Item E   \n",
      "1   100002        4507  2024-11-21        169  Home & Kitchen      Item A   \n",
      "2   100003        1860  2022-09-29        284            Toys      Item E   \n",
      "3   100004        2294  2024-04-15        327            Toys      Item C   \n",
      "4   100005        2130  2023-01-03        168           Books      Item D   \n",
      "\n",
      "   Quantity  PricePerUnit  Discount PaymentMethod CustomerLocation  \\\n",
      "0         2    237.429993      0.00           UPI          Central   \n",
      "1         3    415.809998      0.05   Credit Card          Central   \n",
      "2         7    475.220001      0.22           UPI            North   \n",
      "3         8    226.440002      0.26   Credit Card             West   \n",
      "4         7    209.880005      0.10   Net Banking             West   \n",
      "\n",
      "   DeliveryTimeDays DeliveryStatus  SellerID  Rating   TotalPrice  \n",
      "0                14      Delivered       282     1.4   474.859985  \n",
      "1                10       Returned       235     2.0  1185.058472  \n",
      "2                 8      Delivered       260     4.7  2594.701172  \n",
      "3                 9       Returned       212     5.0  1340.524780  \n",
      "4                 4      Delivered       267     4.3  1322.244019  \n"
     ]
    }
   ],
   "source": [
    "from warnings import filterwarnings\n",
    "import pyodbc\n",
    "import pandas as pd\n",
    "\n",
    "filterwarnings('ignore')\n",
    "\n",
    "# Define Connection\n",
    "conn = pyodbc.connect(\n",
    "    'DRIVER={ODBC Driver 17 for SQL Server};'\n",
    "    'SERVER=LAPTOP-IDSEH902\\\\SQLEXPRESS;'\n",
    "    'DATABASE=Hospital;'\n",
    "    'Trusted_Connection=yes;'\n",
    ")\n",
    "\n",
    "# Query the Table\n",
    "query = \"SELECT * FROM Ecommerce\"\n",
    "df = pd.read_sql_query(query, conn)\n",
    "\n",
    "# Display the Data\n",
    "print(df.head())"
   ]
  },
  {
   "cell_type": "markdown",
   "id": "c4706fc3-28ad-4aa5-8a26-c48813f1662d",
   "metadata": {},
   "source": [
    "**Analyze Seasonal Order Behaviour Across Years:**\n",
    "- Question – 1 :\n",
    "- As an E-Commerce analytics expert, you are tasked with understanding customer Purchasing behaviour over time, Your goal is to determine in which quarters (Q1 –Q4) customers places the most orders and how that trend has evolved from 2022 to 2024. This insights will help stakeholders to plan marketing and inventory strategies around high-demand periods. Construct a feature to identify the quarter from the order date and aggregate the total number of orders per quarter, per year."
   ]
  },
  {
   "cell_type": "code",
   "execution_count": 42,
   "id": "7f715a20-746c-4b6e-85dc-aa8d456b7e14",
   "metadata": {},
   "outputs": [],
   "source": [
    "#Change the Data Type of OrderDate from obj - Date:\n",
    "df['OrderDate'] = pd.to_datetime(df['OrderDate'])"
   ]
  },
  {
   "cell_type": "code",
   "execution_count": 43,
   "id": "d0a18220-6e46-4cac-8ea2-a5d3f7d843e8",
   "metadata": {},
   "outputs": [
    {
     "data": {
      "text/plain": [
       "OrderID                      int64\n",
       "CustomerID                   int64\n",
       "OrderDate           datetime64[ns]\n",
       "ProductID                    int64\n",
       "ProductCategory             object\n",
       "ProductName                 object\n",
       "Quantity                     int64\n",
       "PricePerUnit               float64\n",
       "Discount                   float64\n",
       "PaymentMethod               object\n",
       "CustomerLocation            object\n",
       "DeliveryTimeDays             int64\n",
       "DeliveryStatus              object\n",
       "SellerID                     int64\n",
       "Rating                     float64\n",
       "TotalPrice                 float64\n",
       "dtype: object"
      ]
     },
     "execution_count": 43,
     "metadata": {},
     "output_type": "execute_result"
    }
   ],
   "source": [
    "df.dtypes"
   ]
  },
  {
   "cell_type": "code",
   "execution_count": 44,
   "id": "ed4f5d0e-ed30-45e3-9b8f-8a9d54ba02b0",
   "metadata": {},
   "outputs": [
    {
     "data": {
      "text/html": [
       "<div>\n",
       "<style scoped>\n",
       "    .dataframe tbody tr th:only-of-type {\n",
       "        vertical-align: middle;\n",
       "    }\n",
       "\n",
       "    .dataframe tbody tr th {\n",
       "        vertical-align: top;\n",
       "    }\n",
       "\n",
       "    .dataframe thead th {\n",
       "        text-align: right;\n",
       "    }\n",
       "</style>\n",
       "<table border=\"1\" class=\"dataframe\">\n",
       "  <thead>\n",
       "    <tr style=\"text-align: right;\">\n",
       "      <th></th>\n",
       "      <th></th>\n",
       "      <th>0</th>\n",
       "    </tr>\n",
       "    <tr>\n",
       "      <th>Year</th>\n",
       "      <th>Quarter</th>\n",
       "      <th></th>\n",
       "    </tr>\n",
       "  </thead>\n",
       "  <tbody>\n",
       "    <tr>\n",
       "      <th rowspan=\"4\" valign=\"top\">2022</th>\n",
       "      <th>2022Q1</th>\n",
       "      <td>3262</td>\n",
       "    </tr>\n",
       "    <tr>\n",
       "      <th>2022Q2</th>\n",
       "      <td>3369</td>\n",
       "    </tr>\n",
       "    <tr>\n",
       "      <th>2022Q3</th>\n",
       "      <td>3487</td>\n",
       "    </tr>\n",
       "    <tr>\n",
       "      <th>2022Q4</th>\n",
       "      <td>3420</td>\n",
       "    </tr>\n",
       "    <tr>\n",
       "      <th rowspan=\"4\" valign=\"top\">2023</th>\n",
       "      <th>2023Q1</th>\n",
       "      <td>3267</td>\n",
       "    </tr>\n",
       "    <tr>\n",
       "      <th>2023Q2</th>\n",
       "      <td>3326</td>\n",
       "    </tr>\n",
       "    <tr>\n",
       "      <th>2023Q3</th>\n",
       "      <td>3362</td>\n",
       "    </tr>\n",
       "    <tr>\n",
       "      <th>2023Q4</th>\n",
       "      <td>3238</td>\n",
       "    </tr>\n",
       "    <tr>\n",
       "      <th rowspan=\"4\" valign=\"top\">2024</th>\n",
       "      <th>2024Q1</th>\n",
       "      <td>3377</td>\n",
       "    </tr>\n",
       "    <tr>\n",
       "      <th>2024Q2</th>\n",
       "      <td>3283</td>\n",
       "    </tr>\n",
       "    <tr>\n",
       "      <th>2024Q3</th>\n",
       "      <td>3290</td>\n",
       "    </tr>\n",
       "    <tr>\n",
       "      <th>2024Q4</th>\n",
       "      <td>3319</td>\n",
       "    </tr>\n",
       "  </tbody>\n",
       "</table>\n",
       "</div>"
      ],
      "text/plain": [
       "                 0\n",
       "Year Quarter      \n",
       "2022 2022Q1   3262\n",
       "     2022Q2   3369\n",
       "     2022Q3   3487\n",
       "     2022Q4   3420\n",
       "2023 2023Q1   3267\n",
       "     2023Q2   3326\n",
       "     2023Q3   3362\n",
       "     2023Q4   3238\n",
       "2024 2024Q1   3377\n",
       "     2024Q2   3283\n",
       "     2024Q3   3290\n",
       "     2024Q4   3319"
      ]
     },
     "execution_count": 44,
     "metadata": {},
     "output_type": "execute_result"
    }
   ],
   "source": [
    "#Feature Engineering:\n",
    "\n",
    "df['Year'] = df['OrderDate'].dt.year\n",
    "df['Quarter'] = df['OrderDate'].dt.to_period('Q')\n",
    "\n",
    "#See How many Orders has been placed by Quarter & year:\n",
    "quarter = df.groupby(['Year','Quarter']).size().to_frame()\n",
    "\n",
    "#Sorting the Data for Better Readability\n",
    "quarterly_orders = quarter.sort_values(by=['Year', 'Quarter'])\n",
    "quarterly_orders"
   ]
  },
  {
   "cell_type": "markdown",
   "id": "be7df707-554c-4e3a-bc63-9112f2b47efc",
   "metadata": {},
   "source": [
    "**Business Insights**\n",
    "\n",
    "1.This Analysis helps us to discover Peak periods.\n",
    "2.From the analysis we can conclude 2024 has the Peak period from overall Data.\n",
    "3.The reason behind the peak it might indicate festival shopping behaviour.\n",
    "4.This can help with planning discount campaigns and optimizing the inventory.\n"
   ]
  },
  {
   "cell_type": "markdown",
   "id": "f37655e6-2589-4321-aa32-cb960f1862ed",
   "metadata": {},
   "source": [
    "**Calculate Seller-Wise Average Product Rating for Performance BenchMarking:**\n",
    "- Question – 2: \n",
    "- The Quality of Service and Product Satisfaction is essential for long-term customer \n",
    "retention in an eCommerce business. As a Data Analyst, you need to provide seller\u0002level performance insights to the marketplace operations team. Calculate the \n",
    "average customer rating received by each seller, along with the total number of \n",
    "products sold by that seller. This will help identify high-performing sellers and those \n",
    "who may need support or training interventions."
   ]
  },
  {
   "cell_type": "code",
   "execution_count": 45,
   "id": "d4608230-43cd-4bc9-97b9-f7feec75c361",
   "metadata": {},
   "outputs": [
    {
     "data": {
      "text/html": [
       "<div>\n",
       "<style scoped>\n",
       "    .dataframe tbody tr th:only-of-type {\n",
       "        vertical-align: middle;\n",
       "    }\n",
       "\n",
       "    .dataframe tbody tr th {\n",
       "        vertical-align: top;\n",
       "    }\n",
       "\n",
       "    .dataframe thead th {\n",
       "        text-align: right;\n",
       "    }\n",
       "</style>\n",
       "<table border=\"1\" class=\"dataframe\">\n",
       "  <thead>\n",
       "    <tr style=\"text-align: right;\">\n",
       "      <th></th>\n",
       "      <th>AverageRating</th>\n",
       "      <th>TotalOrders</th>\n",
       "    </tr>\n",
       "    <tr>\n",
       "      <th>SellerID</th>\n",
       "      <th></th>\n",
       "      <th></th>\n",
       "    </tr>\n",
       "  </thead>\n",
       "  <tbody>\n",
       "    <tr>\n",
       "      <th>211</th>\n",
       "      <td>3.160167</td>\n",
       "      <td>359</td>\n",
       "    </tr>\n",
       "    <tr>\n",
       "      <th>269</th>\n",
       "      <td>3.135733</td>\n",
       "      <td>375</td>\n",
       "    </tr>\n",
       "    <tr>\n",
       "      <th>226</th>\n",
       "      <td>3.114987</td>\n",
       "      <td>387</td>\n",
       "    </tr>\n",
       "    <tr>\n",
       "      <th>258</th>\n",
       "      <td>3.114721</td>\n",
       "      <td>394</td>\n",
       "    </tr>\n",
       "    <tr>\n",
       "      <th>288</th>\n",
       "      <td>3.097594</td>\n",
       "      <td>374</td>\n",
       "    </tr>\n",
       "    <tr>\n",
       "      <th>...</th>\n",
       "      <td>...</td>\n",
       "      <td>...</td>\n",
       "    </tr>\n",
       "    <tr>\n",
       "      <th>256</th>\n",
       "      <td>2.910000</td>\n",
       "      <td>410</td>\n",
       "    </tr>\n",
       "    <tr>\n",
       "      <th>291</th>\n",
       "      <td>2.901527</td>\n",
       "      <td>393</td>\n",
       "    </tr>\n",
       "    <tr>\n",
       "      <th>293</th>\n",
       "      <td>2.888281</td>\n",
       "      <td>384</td>\n",
       "    </tr>\n",
       "    <tr>\n",
       "      <th>235</th>\n",
       "      <td>2.886771</td>\n",
       "      <td>446</td>\n",
       "    </tr>\n",
       "    <tr>\n",
       "      <th>239</th>\n",
       "      <td>2.882294</td>\n",
       "      <td>401</td>\n",
       "    </tr>\n",
       "  </tbody>\n",
       "</table>\n",
       "<p>100 rows × 2 columns</p>\n",
       "</div>"
      ],
      "text/plain": [
       "          AverageRating  TotalOrders\n",
       "SellerID                            \n",
       "211            3.160167          359\n",
       "269            3.135733          375\n",
       "226            3.114987          387\n",
       "258            3.114721          394\n",
       "288            3.097594          374\n",
       "...                 ...          ...\n",
       "256            2.910000          410\n",
       "291            2.901527          393\n",
       "293            2.888281          384\n",
       "235            2.886771          446\n",
       "239            2.882294          401\n",
       "\n",
       "[100 rows x 2 columns]"
      ]
     },
     "execution_count": 45,
     "metadata": {},
     "output_type": "execute_result"
    }
   ],
   "source": [
    "# Seller countPerformance:-\n",
    "\n",
    "df.groupby('SellerID').agg(\n",
    "\n",
    "    AverageRating = ('Rating', 'mean'),\n",
    "    TotalOrders = ('OrderID', 'count')\n",
    ").sort_values(by = ['AverageRating'],ascending=False)"
   ]
  },
  {
   "cell_type": "markdown",
   "id": "9bc39e31-5fd3-4781-b6f4-111e580fd52f",
   "metadata": {},
   "source": [
    "**Business Insights**\n",
    "1. This analysis helps to categorize seller into Top-tiers.\n",
    "2. Top-Rated seller can be incentivized with premium visibility.\n",
    "3. Low-Rated seller will be flagged with feedbacks to improve for the scalability."
   ]
  },
  {
   "cell_type": "markdown",
   "id": "adcb0ec3-88fe-470b-ba54-a0ffe3b9d1ad",
   "metadata": {},
   "source": [
    "**Identify Product Categories with the Highest Return and Cancellation Rates**\n",
    "- Question – 3 :\n",
    "- Returns and cancellations significantly impact logistics costs and customer \n",
    "satisfaction. To improve the supply chain and reduce losses, identify which product \n",
    "categories have the highest percentage of returned or cancelled orders. This metric \n",
    "should be normalized based on the total number of orders in each category to \n",
    "account for volume differences. Your output should include the total number of \n",
    "orders, return/cancel counts, and return/cancel rate per category.\n",
    "\n",
    "1. Total Numbers of Orders.\n",
    "2. Return/Cancel counts.\n",
    "3. Return/Cancel rate per category."
   ]
  },
  {
   "cell_type": "code",
   "execution_count": 46,
   "id": "da49c03b-2962-4b66-b72d-7498900fc4b4",
   "metadata": {},
   "outputs": [],
   "source": [
    "df['IsReturnOrCancelled'] = df['DeliveryStatus'].isin(['Returned',\n",
    "                                                      'Cancelled'])"
   ]
  },
  {
   "cell_type": "code",
   "execution_count": 51,
   "id": "e7391acd-7b75-47bf-a8f4-9e6ecf5c98ef",
   "metadata": {},
   "outputs": [
    {
     "data": {
      "text/plain": [
       "Index(['OrderID', 'CustomerID', 'OrderDate', 'ProductID', 'ProductCategory',\n",
       "       'ProductName', 'Quantity', 'PricePerUnit', 'Discount', 'PaymentMethod',\n",
       "       'CustomerLocation', 'DeliveryTimeDays', 'DeliveryStatus', 'SellerID',\n",
       "       'Rating', 'TotalPrice', 'Year', 'Quarter', 'IsReturnOrCancelled'],\n",
       "      dtype='object')"
      ]
     },
     "execution_count": 51,
     "metadata": {},
     "output_type": "execute_result"
    }
   ],
   "source": [
    "df.columns"
   ]
  },
  {
   "cell_type": "code",
   "execution_count": 53,
   "id": "809e530f-e384-4fc3-ad64-dd848cf480d9",
   "metadata": {},
   "outputs": [
    {
     "ename": "KeyError",
     "evalue": "'ReturnCancelRate(%)'",
     "output_type": "error",
     "traceback": [
      "\u001b[1;31m---------------------------------------------------------------------------\u001b[0m",
      "\u001b[1;31mKeyError\u001b[0m                                  Traceback (most recent call last)",
      "\u001b[1;32m~\\AppData\\Local\\Temp\\ipykernel_16760\\3910071625.py\u001b[0m in \u001b[0;36m?\u001b[1;34m()\u001b[0m\n\u001b[0;32m      8\u001b[0m \u001b[1;31m# Calculate Cancel / Return Rate\u001b[0m\u001b[1;33m\u001b[0m\u001b[1;33m\u001b[0m\u001b[0m\n\u001b[0;32m      9\u001b[0m \u001b[0mcategory_return_analysis\u001b[0m\u001b[1;33m[\u001b[0m\u001b[1;34m'ReturnCancelRate (%)'\u001b[0m\u001b[1;33m]\u001b[0m\u001b[1;33m=\u001b[0m\u001b[1;33m(\u001b[0m\u001b[0mcategory_return_analysis\u001b[0m\u001b[1;33m[\u001b[0m\u001b[1;34m'ReturnCancelCount'\u001b[0m\u001b[1;33m]\u001b[0m\u001b[1;33m/\u001b[0m\u001b[0mcategory_return_analysis\u001b[0m\u001b[1;33m[\u001b[0m\u001b[1;34m'TotalOrders'\u001b[0m\u001b[1;33m]\u001b[0m\u001b[1;33m)\u001b[0m\u001b[1;33m*\u001b[0m\u001b[1;36m100\u001b[0m\u001b[1;33m\u001b[0m\u001b[1;33m\u001b[0m\u001b[0m\n\u001b[0;32m     10\u001b[0m \u001b[1;33m\u001b[0m\u001b[0m\n\u001b[0;32m     11\u001b[0m \u001b[1;31m#Sort the Items\u001b[0m\u001b[1;33m\u001b[0m\u001b[1;33m\u001b[0m\u001b[0m\n\u001b[1;32m---> 12\u001b[1;33m category_return_analysis = category_return_analysis.sort_values(\n\u001b[0m\u001b[0;32m     13\u001b[0m     \u001b[0mby\u001b[0m \u001b[1;33m=\u001b[0m \u001b[1;34m'ReturnCancelRate(%)'\u001b[0m\u001b[1;33m,\u001b[0m \u001b[0mascending\u001b[0m \u001b[1;33m=\u001b[0m \u001b[1;32mFalse\u001b[0m\u001b[1;33m)\u001b[0m\u001b[1;33m,\u001b[0m\u001b[0mround\u001b[0m\u001b[1;33m(\u001b[0m\u001b[1;36m2\u001b[0m\u001b[1;33m)\u001b[0m\u001b[1;33m\u001b[0m\u001b[1;33m\u001b[0m\u001b[0m\n\u001b[0;32m     14\u001b[0m \u001b[1;33m\u001b[0m\u001b[0m\n\u001b[0;32m     15\u001b[0m \u001b[0mcategory_return_analysis\u001b[0m\u001b[1;33m\u001b[0m\u001b[1;33m\u001b[0m\u001b[0m\n",
      "\u001b[1;32m~\\anaconda3\\Lib\\site-packages\\pandas\\core\\frame.py\u001b[0m in \u001b[0;36m?\u001b[1;34m(self, by, axis, ascending, inplace, kind, na_position, ignore_index, key)\u001b[0m\n\u001b[0;32m   7185\u001b[0m             \u001b[1;33m)\u001b[0m\u001b[1;33m\u001b[0m\u001b[1;33m\u001b[0m\u001b[0m\n\u001b[0;32m   7186\u001b[0m         \u001b[1;32melif\u001b[0m \u001b[0mlen\u001b[0m\u001b[1;33m(\u001b[0m\u001b[0mby\u001b[0m\u001b[1;33m)\u001b[0m\u001b[1;33m:\u001b[0m\u001b[1;33m\u001b[0m\u001b[1;33m\u001b[0m\u001b[0m\n\u001b[0;32m   7187\u001b[0m             \u001b[1;31m# len(by) == 1\u001b[0m\u001b[1;33m\u001b[0m\u001b[1;33m\u001b[0m\u001b[0m\n\u001b[0;32m   7188\u001b[0m \u001b[1;33m\u001b[0m\u001b[0m\n\u001b[1;32m-> 7189\u001b[1;33m             \u001b[0mk\u001b[0m \u001b[1;33m=\u001b[0m \u001b[0mself\u001b[0m\u001b[1;33m.\u001b[0m\u001b[0m_get_label_or_level_values\u001b[0m\u001b[1;33m(\u001b[0m\u001b[0mby\u001b[0m\u001b[1;33m[\u001b[0m\u001b[1;36m0\u001b[0m\u001b[1;33m]\u001b[0m\u001b[1;33m,\u001b[0m \u001b[0maxis\u001b[0m\u001b[1;33m=\u001b[0m\u001b[0maxis\u001b[0m\u001b[1;33m)\u001b[0m\u001b[1;33m\u001b[0m\u001b[1;33m\u001b[0m\u001b[0m\n\u001b[0m\u001b[0;32m   7190\u001b[0m \u001b[1;33m\u001b[0m\u001b[0m\n\u001b[0;32m   7191\u001b[0m             \u001b[1;31m# need to rewrap column in Series to apply key function\u001b[0m\u001b[1;33m\u001b[0m\u001b[1;33m\u001b[0m\u001b[0m\n\u001b[0;32m   7192\u001b[0m             \u001b[1;32mif\u001b[0m \u001b[0mkey\u001b[0m \u001b[1;32mis\u001b[0m \u001b[1;32mnot\u001b[0m \u001b[1;32mNone\u001b[0m\u001b[1;33m:\u001b[0m\u001b[1;33m\u001b[0m\u001b[1;33m\u001b[0m\u001b[0m\n",
      "\u001b[1;32m~\\anaconda3\\Lib\\site-packages\\pandas\\core\\generic.py\u001b[0m in \u001b[0;36m?\u001b[1;34m(self, key, axis)\u001b[0m\n\u001b[0;32m   1907\u001b[0m             \u001b[0mvalues\u001b[0m \u001b[1;33m=\u001b[0m \u001b[0mself\u001b[0m\u001b[1;33m.\u001b[0m\u001b[0mxs\u001b[0m\u001b[1;33m(\u001b[0m\u001b[0mkey\u001b[0m\u001b[1;33m,\u001b[0m \u001b[0maxis\u001b[0m\u001b[1;33m=\u001b[0m\u001b[0mother_axes\u001b[0m\u001b[1;33m[\u001b[0m\u001b[1;36m0\u001b[0m\u001b[1;33m]\u001b[0m\u001b[1;33m)\u001b[0m\u001b[1;33m.\u001b[0m\u001b[0m_values\u001b[0m\u001b[1;33m\u001b[0m\u001b[1;33m\u001b[0m\u001b[0m\n\u001b[0;32m   1908\u001b[0m         \u001b[1;32melif\u001b[0m \u001b[0mself\u001b[0m\u001b[1;33m.\u001b[0m\u001b[0m_is_level_reference\u001b[0m\u001b[1;33m(\u001b[0m\u001b[0mkey\u001b[0m\u001b[1;33m,\u001b[0m \u001b[0maxis\u001b[0m\u001b[1;33m=\u001b[0m\u001b[0maxis\u001b[0m\u001b[1;33m)\u001b[0m\u001b[1;33m:\u001b[0m\u001b[1;33m\u001b[0m\u001b[1;33m\u001b[0m\u001b[0m\n\u001b[0;32m   1909\u001b[0m             \u001b[0mvalues\u001b[0m \u001b[1;33m=\u001b[0m \u001b[0mself\u001b[0m\u001b[1;33m.\u001b[0m\u001b[0maxes\u001b[0m\u001b[1;33m[\u001b[0m\u001b[0maxis\u001b[0m\u001b[1;33m]\u001b[0m\u001b[1;33m.\u001b[0m\u001b[0mget_level_values\u001b[0m\u001b[1;33m(\u001b[0m\u001b[0mkey\u001b[0m\u001b[1;33m)\u001b[0m\u001b[1;33m.\u001b[0m\u001b[0m_values\u001b[0m\u001b[1;33m\u001b[0m\u001b[1;33m\u001b[0m\u001b[0m\n\u001b[0;32m   1910\u001b[0m         \u001b[1;32melse\u001b[0m\u001b[1;33m:\u001b[0m\u001b[1;33m\u001b[0m\u001b[1;33m\u001b[0m\u001b[0m\n\u001b[1;32m-> 1911\u001b[1;33m             \u001b[1;32mraise\u001b[0m \u001b[0mKeyError\u001b[0m\u001b[1;33m(\u001b[0m\u001b[0mkey\u001b[0m\u001b[1;33m)\u001b[0m\u001b[1;33m\u001b[0m\u001b[1;33m\u001b[0m\u001b[0m\n\u001b[0m\u001b[0;32m   1912\u001b[0m \u001b[1;33m\u001b[0m\u001b[0m\n\u001b[0;32m   1913\u001b[0m         \u001b[1;31m# Check for duplicates\u001b[0m\u001b[1;33m\u001b[0m\u001b[1;33m\u001b[0m\u001b[0m\n\u001b[0;32m   1914\u001b[0m         \u001b[1;32mif\u001b[0m \u001b[0mvalues\u001b[0m\u001b[1;33m.\u001b[0m\u001b[0mndim\u001b[0m \u001b[1;33m>\u001b[0m \u001b[1;36m1\u001b[0m\u001b[1;33m:\u001b[0m\u001b[1;33m\u001b[0m\u001b[1;33m\u001b[0m\u001b[0m\n",
      "\u001b[1;31mKeyError\u001b[0m: 'ReturnCancelRate(%)'"
     ]
    }
   ],
   "source": [
    "#Group By Product Analysis:\n",
    "category_return_analysis = df.groupby('ProductCategory').agg(\n",
    "\n",
    "    TotalOrders = ('OrderID', 'count'),\n",
    "    ReturnCancelCount = ('IsReturnOrCancelled', 'sum')\n",
    ")\n",
    "\n",
    "# Calculate Cancel / Return Rate\n",
    "category_return_analysis['ReturnCancelRate (%)']=(category_return_analysis['ReturnCancelCount']/category_return_analysis['TotalOrders'])*100\n",
    "\n",
    "#Sort the Items\n",
    "category_return_analysis = category_return_analysis.sort_values(\n",
    "    by = 'ReturnCancelRate(%)', ascending = False),round(2)\n",
    "\n",
    "category_return_analysis"
   ]
  },
  {
   "cell_type": "markdown",
   "id": "4215cc7b-2361-41e4-86eb-bd4f4f65c7dd",
   "metadata": {},
   "source": [
    "**Business Insights**\n",
    "1. Product Category with High Return / Cancel Rate may indicate issue with the product mismatch or defects in the product.\n",
    "2. This information is critical for category managers to investigate suppliers to have enhance product billings / Quality check before delivering the product."
   ]
  },
  {
   "cell_type": "code",
   "execution_count": 25,
   "id": "00585736-9cde-4f3a-8e87-57ca9e16fd69",
   "metadata": {},
   "outputs": [
    {
     "data": {
      "text/plain": [
       "Index(['OrderID', 'CustomerID', 'OrderDate', 'ProductID', 'ProductCategory',\n",
       "       'ProductName', 'Quantity', 'PricePerUnit', 'Discount', 'PaymentMethod',\n",
       "       'CustomerLocation', 'DeliveryTimeDays', 'DeliveryStatus', 'SellerID',\n",
       "       'Rating', 'TotalPrice', 'Year', 'Quarter'],\n",
       "      dtype='object')"
      ]
     },
     "execution_count": 25,
     "metadata": {},
     "output_type": "execute_result"
    }
   ],
   "source": [
    "df.columns"
   ]
  },
  {
   "cell_type": "code",
   "execution_count": null,
   "id": "2c7958bb-c993-41da-950d-19c04094d101",
   "metadata": {},
   "outputs": [],
   "source": []
  },
  {
   "cell_type": "markdown",
   "id": "dd650c30-8c66-4ac6-a5dd-3a1faf0db093",
   "metadata": {},
   "source": [
    "**Analyze Top 10 High-Revenue Products with Adjusted Revenue Considering Discounts**\n",
    "\n",
    "Question – 4:\n",
    "- Revenue insights are vital for identifying product success. As a revenue analyst, your\n",
    "task is to determine the top 10 products that generate the most revenue after\n",
    "discounts are applied. The metric should use a calculated TotalPrice that adjusts for\n",
    "discounts, not just the MRP. This will help product and pricing teams understand\n",
    "which products are driving real monetary value.\n"
   ]
  },
  {
   "cell_type": "code",
   "execution_count": 5,
   "id": "42afd64d-a44f-4156-8b32-fd83082efa42",
   "metadata": {},
   "outputs": [
    {
     "data": {
      "text/plain": [
       "Index(['OrderID', 'CustomerID', 'OrderDate', 'ProductID', 'ProductCategory',\n",
       "       'ProductName', 'Quantity', 'PricePerUnit', 'Discount', 'PaymentMethod',\n",
       "       'CustomerLocation', 'DeliveryTimeDays', 'DeliveryStatus', 'SellerID',\n",
       "       'Rating', 'TotalPrice'],\n",
       "      dtype='object')"
      ]
     },
     "execution_count": 5,
     "metadata": {},
     "output_type": "execute_result"
    }
   ],
   "source": [
    "df.columns"
   ]
  },
  {
   "cell_type": "code",
   "execution_count": 4,
   "id": "345e2c0c-15c7-410e-b599-cbd2b0e234c3",
   "metadata": {},
   "outputs": [],
   "source": [
    "# From Exponential Values to Real Float Values\n",
    "pd.options.display.float_format = '{:.2f}'.format"
   ]
  },
  {
   "cell_type": "code",
   "execution_count": 5,
   "id": "6a717c0b-1990-4ef4-952d-b7f71b3d8105",
   "metadata": {},
   "outputs": [
    {
     "data": {
      "text/html": [
       "<div>\n",
       "<style scoped>\n",
       "    .dataframe tbody tr th:only-of-type {\n",
       "        vertical-align: middle;\n",
       "    }\n",
       "\n",
       "    .dataframe tbody tr th {\n",
       "        vertical-align: top;\n",
       "    }\n",
       "\n",
       "    .dataframe thead th {\n",
       "        text-align: right;\n",
       "    }\n",
       "</style>\n",
       "<table border=\"1\" class=\"dataframe\">\n",
       "  <thead>\n",
       "    <tr style=\"text-align: right;\">\n",
       "      <th></th>\n",
       "      <th>TotalRevenue</th>\n",
       "      <th>TotalQuantitySold</th>\n",
       "    </tr>\n",
       "    <tr>\n",
       "      <th>ProductName</th>\n",
       "      <th></th>\n",
       "      <th></th>\n",
       "    </tr>\n",
       "  </thead>\n",
       "  <tbody>\n",
       "    <tr>\n",
       "      <th>Item D</th>\n",
       "      <td>8623426.91</td>\n",
       "      <td>40202</td>\n",
       "    </tr>\n",
       "    <tr>\n",
       "      <th>Item A</th>\n",
       "      <td>8619518.74</td>\n",
       "      <td>40311</td>\n",
       "    </tr>\n",
       "    <tr>\n",
       "      <th>Item E</th>\n",
       "      <td>8543835.73</td>\n",
       "      <td>39452</td>\n",
       "    </tr>\n",
       "    <tr>\n",
       "      <th>Item B</th>\n",
       "      <td>8402288.49</td>\n",
       "      <td>39459</td>\n",
       "    </tr>\n",
       "    <tr>\n",
       "      <th>Item C</th>\n",
       "      <td>8364208.87</td>\n",
       "      <td>39616</td>\n",
       "    </tr>\n",
       "  </tbody>\n",
       "</table>\n",
       "</div>"
      ],
      "text/plain": [
       "             TotalRevenue  TotalQuantitySold\n",
       "ProductName                                 \n",
       "Item D         8623426.91              40202\n",
       "Item A         8619518.74              40311\n",
       "Item E         8543835.73              39452\n",
       "Item B         8402288.49              39459\n",
       "Item C         8364208.87              39616"
      ]
     },
     "execution_count": 5,
     "metadata": {},
     "output_type": "execute_result"
    }
   ],
   "source": [
    "# We have to calculate total adjusted revenue:\n",
    "revenue = df.groupby('ProductName').agg(\n",
    "\n",
    "    TotalRevenue = ('TotalPrice', 'sum'),\n",
    "    TotalQuantitySold = ('Quantity', 'sum')\n",
    ")\n",
    "\n",
    "top_products = revenue.sort_values(by ='TotalRevenue',\n",
    "                                  ascending = False)\n",
    "\n",
    "top_products"
   ]
  },
  {
   "cell_type": "code",
   "execution_count": 6,
   "id": "9bcc297e-7265-4091-a371-9bfef4af4898",
   "metadata": {},
   "outputs": [
    {
     "data": {
      "text/plain": [
       "0        474.86\n",
       "1       1185.06\n",
       "2       2594.70\n",
       "3       1340.52\n",
       "4       1322.24\n",
       "          ...  \n",
       "39995   2177.99\n",
       "39996   2095.05\n",
       "39997   2090.57\n",
       "39998     18.10\n",
       "39999    649.77\n",
       "Name: TotalPrice, Length: 40000, dtype: float64"
      ]
     },
     "execution_count": 6,
     "metadata": {},
     "output_type": "execute_result"
    }
   ],
   "source": [
    "df['TotalPrice']"
   ]
  },
  {
   "cell_type": "code",
   "execution_count": null,
   "id": "aa078fd8-bebe-4da9-a581-1b05091cb413",
   "metadata": {},
   "outputs": [],
   "source": [
    "price of the product and total price of the product"
   ]
  },
  {
   "cell_type": "markdown",
   "id": "8c0b66d4-7966-4e02-9256-b2863cdc7180",
   "metadata": {},
   "source": [
    "**Business Insights**:\n",
    "1. An Accurate picture of product profitability through this analysis.\n",
    "2. This can be useful for cross-selling() or promotional placement."
   ]
  },
  {
   "cell_type": "markdown",
   "id": "e8d0a1db-41a0-4f27-bf57-88e296a1d510",
   "metadata": {},
   "source": [
    "**Evaluate Regional Order Distribution and Total Revenue for Strategic Expansion**\n",
    "Question – 5:\n",
    "- Understanding geographic trends is essential for regional marketing and logistics\n",
    "planning. As part of a regional strategy evaluation, calculate the total number of\n",
    "orders and the total revenue generated from each region (CustomerLocation). This\n",
    "will support decisions regarding warehouse expansion, delivery optimization, and\n",
    "targeted marketing campaigns."
   ]
  },
  {
   "cell_type": "code",
   "execution_count": 23,
   "id": "0f0f084b-90c5-4ba1-ac04-71fc1197790a",
   "metadata": {},
   "outputs": [
    {
     "data": {
      "text/html": [
       "<div>\n",
       "<style scoped>\n",
       "    .dataframe tbody tr th:only-of-type {\n",
       "        vertical-align: middle;\n",
       "    }\n",
       "\n",
       "    .dataframe tbody tr th {\n",
       "        vertical-align: top;\n",
       "    }\n",
       "\n",
       "    .dataframe thead th {\n",
       "        text-align: right;\n",
       "    }\n",
       "</style>\n",
       "<table border=\"1\" class=\"dataframe\">\n",
       "  <thead>\n",
       "    <tr style=\"text-align: right;\">\n",
       "      <th></th>\n",
       "      <th>TotalOrders</th>\n",
       "      <th>TotalRevenue</th>\n",
       "    </tr>\n",
       "    <tr>\n",
       "      <th>CustomerLocation</th>\n",
       "      <th></th>\n",
       "      <th></th>\n",
       "    </tr>\n",
       "  </thead>\n",
       "  <tbody>\n",
       "    <tr>\n",
       "      <th>Central</th>\n",
       "      <td>8048</td>\n",
       "      <td>8583031.53</td>\n",
       "    </tr>\n",
       "    <tr>\n",
       "      <th>West</th>\n",
       "      <td>8029</td>\n",
       "      <td>8573505.36</td>\n",
       "    </tr>\n",
       "    <tr>\n",
       "      <th>East</th>\n",
       "      <td>8046</td>\n",
       "      <td>8547505.44</td>\n",
       "    </tr>\n",
       "    <tr>\n",
       "      <th>South</th>\n",
       "      <td>7910</td>\n",
       "      <td>8427529.52</td>\n",
       "    </tr>\n",
       "    <tr>\n",
       "      <th>North</th>\n",
       "      <td>7967</td>\n",
       "      <td>8421706.89</td>\n",
       "    </tr>\n",
       "  </tbody>\n",
       "</table>\n",
       "</div>"
      ],
      "text/plain": [
       "                  TotalOrders  TotalRevenue\n",
       "CustomerLocation                           \n",
       "Central                  8048    8583031.53\n",
       "West                     8029    8573505.36\n",
       "East                     8046    8547505.44\n",
       "South                    7910    8427529.52\n",
       "North                    7967    8421706.89"
      ]
     },
     "execution_count": 23,
     "metadata": {},
     "output_type": "execute_result"
    }
   ],
   "source": [
    "region_analysis = df.groupby('CustomerLocation').agg(\n",
    "\n",
    "    TotalOrders = ('OrderID', 'count'),\n",
    "    TotalRevenue = ('TotalPrice', 'sum')\n",
    ")\n",
    "\n",
    "region_analysis = region_analysis.sort_values(by = 'TotalRevenue',\n",
    "                                              ascending = False)\n",
    "region_analysis"
   ]
  },
  {
   "cell_type": "markdown",
   "id": "b7dd1130-45d4-4f41-af8d-b5ac7f605499",
   "metadata": {},
   "source": [
    "**Business Insights**\n",
    "1. Region with High Order Volume and revenue (Eg.Central, West) can be prioritized for faster delivery hubs or regional Discounts.\n",
    "2. While we implement in the required Location , Customer engagement raises rapidly.\n",
    "3. Ofcourse, seller onbording also promoted if incase we consider this criteria."
   ]
  },
  {
   "cell_type": "markdown",
   "id": "2d2ba3a9-86ee-4ab0-b471-2ca6bf718547",
   "metadata": {},
   "source": [
    "**Determine Average Delivery Time by Product Category to Identify Supply Chain**\n",
    "Bottlenecks\n",
    "Question – 6:\n",
    "- In eCommerce logistics, average delivery time is a crucial KPI that reflects supply\n",
    "chain efficiency. Management wants to understand which product categories are\n",
    "taking longer to deliver than others. Your goal is to compute the average delivery\n",
    "time in days per product category. This will help logistics teams identify bottlenecks\n",
    "and improve delivery SLAs."
   ]
  },
  {
   "cell_type": "code",
   "execution_count": 7,
   "id": "332936e3-7235-48bb-a0c7-170528bf6077",
   "metadata": {},
   "outputs": [
    {
     "data": {
      "text/html": [
       "<div>\n",
       "<style scoped>\n",
       "    .dataframe tbody tr th:only-of-type {\n",
       "        vertical-align: middle;\n",
       "    }\n",
       "\n",
       "    .dataframe tbody tr th {\n",
       "        vertical-align: top;\n",
       "    }\n",
       "\n",
       "    .dataframe thead th {\n",
       "        text-align: right;\n",
       "    }\n",
       "</style>\n",
       "<table border=\"1\" class=\"dataframe\">\n",
       "  <thead>\n",
       "    <tr style=\"text-align: right;\">\n",
       "      <th></th>\n",
       "      <th>AverageDeliveryTime</th>\n",
       "      <th>TotalOrders</th>\n",
       "    </tr>\n",
       "    <tr>\n",
       "      <th>ProductCategory</th>\n",
       "      <th></th>\n",
       "      <th></th>\n",
       "    </tr>\n",
       "  </thead>\n",
       "  <tbody>\n",
       "    <tr>\n",
       "      <th>Home &amp; Kitchen</th>\n",
       "      <td>7.56</td>\n",
       "      <td>6634</td>\n",
       "    </tr>\n",
       "    <tr>\n",
       "      <th>Electronics</th>\n",
       "      <td>7.52</td>\n",
       "      <td>6572</td>\n",
       "    </tr>\n",
       "    <tr>\n",
       "      <th>Books</th>\n",
       "      <td>7.49</td>\n",
       "      <td>6765</td>\n",
       "    </tr>\n",
       "    <tr>\n",
       "      <th>Beauty</th>\n",
       "      <td>7.48</td>\n",
       "      <td>6653</td>\n",
       "    </tr>\n",
       "    <tr>\n",
       "      <th>Clothing</th>\n",
       "      <td>7.48</td>\n",
       "      <td>6751</td>\n",
       "    </tr>\n",
       "    <tr>\n",
       "      <th>Toys</th>\n",
       "      <td>7.41</td>\n",
       "      <td>6625</td>\n",
       "    </tr>\n",
       "  </tbody>\n",
       "</table>\n",
       "</div>"
      ],
      "text/plain": [
       "                 AverageDeliveryTime  TotalOrders\n",
       "ProductCategory                                  \n",
       "Home & Kitchen                  7.56         6634\n",
       "Electronics                     7.52         6572\n",
       "Books                           7.49         6765\n",
       "Beauty                          7.48         6653\n",
       "Clothing                        7.48         6751\n",
       "Toys                            7.41         6625"
      ]
     },
     "execution_count": 7,
     "metadata": {},
     "output_type": "execute_result"
    }
   ],
   "source": [
    "category_delivery_time = df.groupby('ProductCategory').agg(\n",
    "\n",
    "    AverageDeliveryTime = ('DeliveryTimeDays', 'mean'),\n",
    "    TotalOrders = ('OrderID', 'count')\n",
    ")\n",
    "\n",
    "category_delivery_time = category_delivery_time.sort_values(by = 'AverageDeliveryTime',\n",
    "                                                            ascending = False)\n",
    "\n",
    "category_delivery_time"
   ]
  },
  {
   "cell_type": "markdown",
   "id": "a4043d60-501d-4747-9abd-55f876ad89fd",
   "metadata": {},
   "source": [
    "**Business Insights**\n",
    "1. Longer Delivery times in certain (Home & Kitchen, Electronics)map point to fulfilment issues.\n",
    "2. It depends on Supplier dependencies or geographical constraints."
   ]
  },
  {
   "cell_type": "markdown",
   "id": "dd641b88-97af-4865-b282-43fb5a9bec33",
   "metadata": {},
   "source": [
    "**Identify Customer Segments Based on Purchase Volume for Loyalty Program Targeting**\n",
    "\n",
    "Question – 7:\n",
    "- To design an effective loyalty or rewards program, it's essential to classify customers\n",
    "based on their total order volume. Segment the customers into three tiers—Low,\n",
    "Medium, and High—based on the number of orders they've placed.\n",
    "\n",
    "- This will help the marketing team focus their campaigns on loyal, high-value customers while also re-\n",
    "engaging low-activity ones."
   ]
  },
  {
   "cell_type": "code",
   "execution_count": 14,
   "id": "3e053530-9127-400e-b483-761aa5e8aec5",
   "metadata": {},
   "outputs": [
    {
     "data": {
      "text/html": [
       "<div>\n",
       "<style scoped>\n",
       "    .dataframe tbody tr th:only-of-type {\n",
       "        vertical-align: middle;\n",
       "    }\n",
       "\n",
       "    .dataframe tbody tr th {\n",
       "        vertical-align: top;\n",
       "    }\n",
       "\n",
       "    .dataframe thead th {\n",
       "        text-align: right;\n",
       "    }\n",
       "</style>\n",
       "<table border=\"1\" class=\"dataframe\">\n",
       "  <thead>\n",
       "    <tr style=\"text-align: right;\">\n",
       "      <th></th>\n",
       "      <th>count</th>\n",
       "    </tr>\n",
       "    <tr>\n",
       "      <th>CustomerSegment</th>\n",
       "      <th></th>\n",
       "    </tr>\n",
       "  </thead>\n",
       "  <tbody>\n",
       "    <tr>\n",
       "      <th>Low</th>\n",
       "      <td>3981</td>\n",
       "    </tr>\n",
       "    <tr>\n",
       "      <th>Medium</th>\n",
       "      <td>19</td>\n",
       "    </tr>\n",
       "  </tbody>\n",
       "</table>\n",
       "</div>"
      ],
      "text/plain": [
       "                 count\n",
       "CustomerSegment       \n",
       "Low               3981\n",
       "Medium              19"
      ]
     },
     "execution_count": 14,
     "metadata": {},
     "output_type": "execute_result"
    }
   ],
   "source": [
    "# Step 1 - Total Orders\n",
    "customer_orders = df.groupby('CustomerID').agg(\n",
    "\n",
    "    TotalOrders = ('OrderID', 'count')\n",
    ")\n",
    "\n",
    "# Step 2 - high, Medium, Low:\n",
    "def segment_customers(order_count):\n",
    "    if order_count >= 50:\n",
    "        return 'High'\n",
    "    elif (order_count >= 20 and order_count < 50):\n",
    "        return 'Medium'\n",
    "    else:\n",
    "        return 'Low'\n",
    "\n",
    "# Step 3 - \n",
    "customer_orders['CustomerSegment'] = [segment_customers(x) for x in customer_orders['TotalOrders']]\n",
    "\n",
    "segement_distribution = customer_orders['CustomerSegment'].value_counts().to_frame()\n",
    "segement_distribution"
   ]
  },
  {
   "cell_type": "markdown",
   "id": "97baa277-ae0e-44c0-9ee3-fc6394d2d367",
   "metadata": {},
   "source": [
    "**Business Insights**\n",
    "1. There is no Avail High-Tier Customers from the Analysis.\n",
    "2. So we can get focused \n",
    "3. Which can make the customers to engage towards personalized fundamentals."
   ]
  },
  {
   "cell_type": "markdown",
   "id": "01f664ec-f3fe-4868-869e-c11d95e8d1d4",
   "metadata": {},
   "source": [
    "**Calculate Net Effective Discount Percentage Offered Across Categories**\n",
    "\n",
    "Question – 8 :\n",
    "- Discounts are a key part of eCommerce pricing strategies. However, stakeholders\n",
    "want a realistic picture of the average net effective discount given in each product\n",
    "category, not just the highest advertised rate. Your task is to calculate the average\n",
    "discount percentage offered across each category and determine which categories\n",
    "are operating at higher markdowns. This analysis aids pricing teams in managing\n",
    "margin leakage."
   ]
  },
  {
   "cell_type": "code",
   "execution_count": 16,
   "id": "e8db61e1-4422-4c62-abdb-cd799e0618b0",
   "metadata": {},
   "outputs": [
    {
     "data": {
      "text/html": [
       "<div>\n",
       "<style scoped>\n",
       "    .dataframe tbody tr th:only-of-type {\n",
       "        vertical-align: middle;\n",
       "    }\n",
       "\n",
       "    .dataframe tbody tr th {\n",
       "        vertical-align: top;\n",
       "    }\n",
       "\n",
       "    .dataframe thead th {\n",
       "        text-align: right;\n",
       "    }\n",
       "</style>\n",
       "<table border=\"1\" class=\"dataframe\">\n",
       "  <thead>\n",
       "    <tr style=\"text-align: right;\">\n",
       "      <th></th>\n",
       "      <th>Average_Discount</th>\n",
       "      <th>Average Discount (%)</th>\n",
       "    </tr>\n",
       "    <tr>\n",
       "      <th>ProductCategory</th>\n",
       "      <th></th>\n",
       "      <th></th>\n",
       "    </tr>\n",
       "  </thead>\n",
       "  <tbody>\n",
       "    <tr>\n",
       "      <th>Clothing</th>\n",
       "      <td>0.15</td>\n",
       "      <td>15.20</td>\n",
       "    </tr>\n",
       "    <tr>\n",
       "      <th>Toys</th>\n",
       "      <td>0.15</td>\n",
       "      <td>15.09</td>\n",
       "    </tr>\n",
       "    <tr>\n",
       "      <th>Beauty</th>\n",
       "      <td>0.15</td>\n",
       "      <td>15.03</td>\n",
       "    </tr>\n",
       "    <tr>\n",
       "      <th>Home &amp; Kitchen</th>\n",
       "      <td>0.15</td>\n",
       "      <td>15.02</td>\n",
       "    </tr>\n",
       "    <tr>\n",
       "      <th>Books</th>\n",
       "      <td>0.15</td>\n",
       "      <td>14.99</td>\n",
       "    </tr>\n",
       "    <tr>\n",
       "      <th>Electronics</th>\n",
       "      <td>0.15</td>\n",
       "      <td>14.89</td>\n",
       "    </tr>\n",
       "  </tbody>\n",
       "</table>\n",
       "</div>"
      ],
      "text/plain": [
       "                 Average_Discount  Average Discount (%)\n",
       "ProductCategory                                        \n",
       "Clothing                     0.15                 15.20\n",
       "Toys                         0.15                 15.09\n",
       "Beauty                       0.15                 15.03\n",
       "Home & Kitchen               0.15                 15.02\n",
       "Books                        0.15                 14.99\n",
       "Electronics                  0.15                 14.89"
      ]
     },
     "execution_count": 16,
     "metadata": {},
     "output_type": "execute_result"
    }
   ],
   "source": [
    "category_discount = df.groupby('ProductCategory').agg(\n",
    "\n",
    "    Average_Discount = ('Discount', 'mean')\n",
    ")\n",
    "category_discount['Average Discount (%)'] = category_discount['Average_Discount']*100\n",
    "\n",
    "category_discount = category_discount.sort_values(by = 'Average Discount (%)',\n",
    "                                                  ascending = False)\n",
    "category_discount"
   ]
  },
  {
   "cell_type": "markdown",
   "id": "a986a1c3-fadf-45d1-9d0f-55aa28d15360",
   "metadata": {},
   "source": [
    "**Identify Top 5 Cities (Regions) with Highest Average Order Value (AOV)**\n",
    "- Question – 9 :\n",
    "- Marketing and regional operations teams need clarity on customer purchasing power \n",
    "across regions. One of the best indicators of this is Average Order Value (AOV)—the \n",
    "average revenue generated per order. Your goal is to compute AOV for each customer \n",
    "region and return the top 5 regions. This will help teams target affluent markets with \n",
    "premium products and personalized campaigns."
   ]
  },
  {
   "cell_type": "code",
   "execution_count": 61,
   "id": "b3cebad6-535b-4a53-bb18-e59ae40f1aa6",
   "metadata": {},
   "outputs": [
    {
     "name": "stdout",
     "output_type": "stream",
     "text": [
      "  CustomerLocation  AverageOrderValue\n",
      "4             West        1067.817332\n",
      "0          Central        1066.480061\n",
      "3            South        1065.427247\n",
      "1             East        1062.329783\n",
      "2            North        1057.073791\n"
     ]
    }
   ],
   "source": [
    "# Group by CustomerLocation and calculate AOV\n",
    "aov_by_city = (\n",
    "    df.groupby(\"CustomerLocation\")[\"TotalPrice\"]\n",
    "    .mean()\n",
    "    .reset_index(name=\"AverageOrderValue\")\n",
    ")\n",
    "\n",
    "#Sort by AOV in descending order and get top 5\n",
    "top_5_cities = aov_by_city.sort_values(by=\"AverageOrderValue\", ascending=False).head(5)\n",
    "\n",
    "# Display the result\n",
    "print(top_5_cities)"
   ]
  },
  {
   "cell_type": "markdown",
   "id": "be56b8c3-e742-4062-a32d-ab527e1f4a9a",
   "metadata": {},
   "source": [
    "**Business Insights**\n",
    "\n",
    "1. Engineer a feature to identify repeat customers (those with more than one order).\n",
    "2. Analyze how much total revenue."
   ]
  },
  {
   "cell_type": "markdown",
   "id": "109dbd32-9f62-419d-bbc8-8f2baa81a80b",
   "metadata": {},
   "source": [
    "**Engineer a Feature to Identify Repeat Customers and Analyze Their Contribution to Revenue**\n",
    "- Question – 10 :\n",
    "- Repeat customers are the backbone of a successful eCommerce business. To help the \n",
    "customer success team evaluate loyalty, create a new feature that identifies repeat \n",
    "customers—those who have placed more than one order. Then, compute how much \n",
    "of the total revenue comes from these repeat customers compared to first-time \n",
    "buyers. This insight will validate the ROI of retention strategies and justify loyalty \n",
    "program investments.\n"
   ]
  },
  {
   "cell_type": "code",
   "execution_count": 60,
   "id": "ea2e23de-45d0-4e76-9f2d-9fd04b805682",
   "metadata": {},
   "outputs": [
    {
     "name": "stdout",
     "output_type": "stream",
     "text": [
      "  CustomerType  Total_Revenue  Order_Count  Revenue_Contribution_%\n",
      "0       Repeat   4.255328e+07        40000                   100.0\n"
     ]
    }
   ],
   "source": [
    "#Count orders per customer\n",
    "customer_order_counts = df.groupby(\"CustomerID\")[\"OrderID\"].nunique().reset_index()\n",
    "customer_order_counts.rename(columns={\"OrderID\": \"OrderCount\"}, inplace=True)\n",
    "\n",
    "#Label each customer as 'Repeat' or 'First-Time'\n",
    "customer_order_counts[\"CustomerType\"] = customer_order_counts[\"OrderCount\"].apply(\n",
    "    lambda x: \"Repeat\" if x > 1 else \"First-Time\"\n",
    ")\n",
    "\n",
    "#Merge this back to the original DataFrame\n",
    "df = df.merge(customer_order_counts[[\"CustomerID\", \"CustomerType\"]], on=\"CustomerID\", how=\"left\")\n",
    "\n",
    "#Analyze revenue by customer type\n",
    "revenue_by_type = (\n",
    "    df.groupby(\"CustomerType\")[\"TotalPrice\"]\n",
    "    .agg(Total_Revenue=\"sum\", Order_Count=\"count\")\n",
    "    .reset_index()\n",
    ")\n",
    "\n",
    "#Calculate % contribution\n",
    "total_revenue = revenue_by_type[\"Total_Revenue\"].sum()\n",
    "revenue_by_type[\"Revenue_Contribution_%\"] = (\n",
    "    100 * revenue_by_type[\"Total_Revenue\"] / total_revenue\n",
    ").round(2)\n",
    "\n",
    "# Display the result\n",
    "print(revenue_by_type)"
   ]
  },
  {
   "cell_type": "markdown",
   "id": "d1f48ff6-f0d7-497c-8a7b-3dfdbf550f6d",
   "metadata": {},
   "source": [
    "**Businees Insights**\n",
    "1. Visualize this revenue split between repeat and first-time buyers."
   ]
  },
  {
   "cell_type": "markdown",
   "id": "97083367-6b90-47e1-92ce-559a81b90240",
   "metadata": {},
   "source": [
    "**Identify Top 5 Sellers by Revenue and Analyze Their Average Product Ratings**\n",
    "- Question – 11 :\n",
    "- Revenue is critical, but coupling it with customer satisfaction gives a complete picture \n",
    "of seller performance. Your goal is to identify the top 5 sellers in terms of total \n",
    "revenue, and then evaluate their average product ratings. This will help the \n",
    "marketplace team reward high-value sellers who maintain quality, and investigate \n",
    "those who may be sacrificing customer experience for volume."
   ]
  },
  {
   "cell_type": "code",
   "execution_count": 62,
   "id": "4d539ad0-f924-45fe-8ea0-5b231f9e0bae",
   "metadata": {},
   "outputs": [
    {
     "name": "stdout",
     "output_type": "stream",
     "text": [
      "    SellerID  Total_Revenue  Avg_Rating\n",
      "25       225  518947.115975        2.94\n",
      "35       235  500242.896962        2.89\n",
      "89       289  494221.885525        3.02\n",
      "9        209  480991.295777        3.09\n",
      "29       229  479393.252439        3.09\n"
     ]
    }
   ],
   "source": [
    "#Aggregate total revenue and average rating per seller\n",
    "seller_summary = (\n",
    "    df.groupby(\"SellerID\")\n",
    "    .agg(\n",
    "        Total_Revenue=(\"TotalPrice\", \"sum\"),\n",
    "        Avg_Rating=(\"Rating\", \"mean\")\n",
    "    )\n",
    "    .reset_index()\n",
    ")\n",
    "\n",
    "#Get Top 5 sellers by revenue\n",
    "top_5_sellers = seller_summary.sort_values(by=\"Total_Revenue\", ascending=False).head(5)\n",
    "\n",
    "# Round for readability\n",
    "top_5_sellers[\"Avg_Rating\"] = top_5_sellers[\"Avg_Rating\"].round(2)\n",
    "\n",
    "print(top_5_sellers)\n"
   ]
  },
  {
   "cell_type": "markdown",
   "id": "a8179d0d-ee60-42c9-a2eb-208b27456090",
   "metadata": {},
   "source": [
    "**Business Insights**\n",
    "1. Comparing revenue and rating for these top sellers."
   ]
  },
  {
   "cell_type": "markdown",
   "id": "90d2d363-e67c-40cf-875c-456b3a12b0bc",
   "metadata": {},
   "source": [
    "**Analyze Impact of Payment Methods on Average Order Value and Return Rates**\n",
    "- Question – 12 :\n",
    "- Finance and operations teams want to assess how different payment methods affect \n",
    "purchasing behavior and return patterns. Your task is to calculate two key metrics for \n",
    "each payment method: Average Order Value (AOV) and Return/Cancel Rate. This will \n",
    "inform strategic decisions such as incentivizing certain payment methods or \n",
    "identifying friction points in others."
   ]
  },
  {
   "cell_type": "code",
   "execution_count": 63,
   "id": "a183978c-9acf-4447-bceb-a845ef203d7d",
   "metadata": {},
   "outputs": [
    {
     "name": "stdout",
     "output_type": "stream",
     "text": [
      "      PaymentMethod  Avg_Order_Value  Return_Cancel_Rate_%\n",
      "0  Cash on Delivery          1066.27                 50.14\n",
      "1       Credit Card          1060.86                 49.60\n",
      "2        Debit Card          1062.29                 50.14\n",
      "3       Net Banking          1062.12                 49.44\n",
      "4               UPI          1067.58                 50.92\n"
     ]
    }
   ],
   "source": [
    "#Flag returns or cancellations\n",
    "df[\"Is_Returned\"] = df[\"DeliveryStatus\"].isin([\"Returned\", \"Cancelled\"]).astype(int)\n",
    "\n",
    "#Group by PaymentMethod and calculate metrics\n",
    "payment_method_analysis = (\n",
    "    df.groupby(\"PaymentMethod\")\n",
    "    .agg(\n",
    "        Avg_Order_Value=(\"TotalPrice\", \"mean\"),\n",
    "        Total_Orders=(\"OrderID\", \"count\"),\n",
    "        Returned_Orders=(\"Is_Returned\", \"sum\")\n",
    "    )\n",
    "    .reset_index()\n",
    ")\n",
    "\n",
    "#Calculate Return/Cancel Rate (%)\n",
    "payment_method_analysis[\"Return_Cancel_Rate_%\"] = (\n",
    "    100 * payment_method_analysis[\"Returned_Orders\"] / payment_method_analysis[\"Total_Orders\"]\n",
    ").round(2)\n",
    "\n",
    "#Round AOV for readability\n",
    "payment_method_analysis[\"Avg_Order_Value\"] = payment_method_analysis[\"Avg_Order_Value\"].round(2)\n",
    "\n",
    "# Optional: Drop intermediate columns if not needed\n",
    "payment_method_analysis = payment_method_analysis[[\n",
    "    \"PaymentMethod\", \"Avg_Order_Value\", \"Return_Cancel_Rate_%\"\n",
    "]]\n",
    "\n",
    "# Display result\n",
    "print(payment_method_analysis)"
   ]
  },
  {
   "cell_type": "markdown",
   "id": "a78e39cd-b97c-49bd-979c-4113cb99033c",
   "metadata": {},
   "source": [
    "**Businees Insights**\n",
    "1. Compare AOV vs. return rate!"
   ]
  },
  {
   "cell_type": "markdown",
   "id": "2b604865-954f-4316-ac1a-3ee23478120f",
   "metadata": {},
   "source": [
    "**Engineer a Flag for High-Value Orders and Analyze Their Distribution Across Categories.**\n",
    "- Question – 13 :\n",
    "- Product and marketing teams are interested in identifying \"high-value\" transactions \n",
    "to offer premium customer experiences (e.g., free shipping, early access). You need \n",
    "to engineer a new feature that flags high-value orders—defined as those with a total \n",
    "price greater than the 90th percentile of all orders. Then, analyze how these orders \n",
    "are distributed across product categories."
   ]
  },
  {
   "cell_type": "code",
   "execution_count": 75,
   "id": "c4a74a1f-dae6-449a-aed5-2c9a8c803274",
   "metadata": {},
   "outputs": [
    {
     "name": "stdout",
     "output_type": "stream",
     "text": [
      "  ProductCategory  High_Value_Orders  Total_Orders  High_Value_Order_%\n",
      "3     Electronics                692          6572               10.53\n",
      "5            Toys                695          6625               10.49\n",
      "2        Clothing                672          6751                9.95\n",
      "1           Books                664          6765                9.82\n",
      "4  Home & Kitchen                647          6634                9.75\n",
      "0          Beauty                630          6653                9.47\n"
     ]
    }
   ],
   "source": [
    "#Calculate the 90th percentile of TotalPrice\n",
    "p90 = df[\"TotalPrice\"].quantile(0.90)\n",
    "\n",
    "#Create the high-value order flag\n",
    "df[\"IsHighValueOrder\"] = (df[\"TotalPrice\"] > p90).astype(int)\n",
    "\n",
    "#Analyze distribution of high-value orders across categories\n",
    "high_value_distribution = (\n",
    "    df.groupby(\"ProductCategory\")[\"IsHighValueOrder\"]\n",
    "    .agg(High_Value_Orders=\"sum\", Total_Orders=\"count\")\n",
    "    .reset_index()\n",
    ")\n",
    "\n",
    "#Add % of high-value orders in each category\n",
    "high_value_distribution[\"High_Value_Order_%\"] = (\n",
    "    100 * high_value_distribution[\"High_Value_Orders\"] / high_value_distribution[\"Total_Orders\"]\n",
    ").round(2)\n",
    "\n",
    "# Display result\n",
    "print(high_value_distribution.sort_values(by=\"High_Value_Order_%\", ascending=False))\n"
   ]
  },
  {
   "cell_type": "markdown",
   "id": "18e1da6a-251e-42f1-a7aa-0fdc59070b4b",
   "metadata": {},
   "source": [
    "**Business Insights**\n",
    "1.  visualize which categories drive the most high-value orders!"
   ]
  },
  {
   "cell_type": "markdown",
   "id": "05f84feb-5080-4a7d-9369-5c08010e2085",
   "metadata": {},
   "source": [
    "**Calculate Average Rating by Product Category and Identify Underperforming Segments**\n",
    "- Question – 14 :\n",
    "- Customer reviews are critical indicators of product satisfaction. As part of a quality \n",
    "assurance initiative, you are asked to calculate the average rating for each product \n",
    "category. The goal is to flag categories where the average rating falls below 3.5, \n",
    "indicating potential customer dissatisfaction. This will help product teams prioritize \n",
    "improvements or reconsider inventory from specific suppliers."
   ]
  },
  {
   "cell_type": "code",
   "execution_count": 64,
   "id": "75b6d03f-c8bc-47f6-8739-7b1d713d2336",
   "metadata": {},
   "outputs": [
    {
     "name": "stdout",
     "output_type": "stream",
     "text": [
      "  ProductCategory  Avg_Rating  Is_Underperforming\n",
      "3     Electronics        2.99                True\n",
      "2        Clothing        3.00                True\n",
      "4  Home & Kitchen        3.00                True\n",
      "5            Toys        3.00                True\n",
      "0          Beauty        3.01                True\n",
      "1           Books        3.01                True\n"
     ]
    }
   ],
   "source": [
    "#Calculate average rating by category\n",
    "category_rating = (\n",
    "    df.groupby(\"ProductCategory\")[\"Rating\"]\n",
    "    .mean()\n",
    "    .reset_index(name=\"Avg_Rating\")\n",
    ")\n",
    "\n",
    "#Flag underperforming categories\n",
    "category_rating[\"Is_Underperforming\"] = category_rating[\"Avg_Rating\"] < 3.5\n",
    "\n",
    "#Optional - Round the average rating for readability\n",
    "category_rating[\"Avg_Rating\"] = category_rating[\"Avg_Rating\"].round(2)\n",
    "\n",
    "#Filter only underperforming if needed\n",
    "underperforming_categories = category_rating[category_rating[\"Is_Underperforming\"]]\n",
    "\n",
    "print(category_rating.sort_values(by=\"Avg_Rating\"))\n"
   ]
  },
  {
   "cell_type": "markdown",
   "id": "56134368-5524-431c-a3fd-1d90f126e64a",
   "metadata": {},
   "source": [
    "**Business Insights**\n",
    "1. Visualize the rating distribution.\n",
    "2. Highlight top-rated categories as well!"
   ]
  },
  {
   "cell_type": "markdown",
   "id": "6b648261-c4d1-406d-844e-75e2ccbfb8c7",
   "metadata": {},
   "source": [
    "**Engineer Product Profitability Metric and Identify Most and Least Profitable Categories.**\n",
    "- Question – 15 :\n",
    "- While revenue is important, profitability is what ultimately matters to the finance \n",
    "team. For better decision-making, you are tasked with engineering a new feature: \n",
    "Estimated Profit per order. Assume a flat product cost = 70% of the PricePerUnit \n",
    "(excluding discount). Using this, calculate estimated profit for each order and then \n",
    "aggregate the total profit by product category. Identify the top 3 most profitable and \n",
    "least profitable categories."
   ]
  },
  {
   "cell_type": "code",
   "execution_count": 68,
   "id": "7c02c01c-a2f7-4069-a137-6628143f22c1",
   "metadata": {},
   "outputs": [
    {
     "name": "stdout",
     "output_type": "stream",
     "text": [
      "  ProductCategory  Total_Profit\n",
      "0           Books    1276220.46\n",
      "1     Electronics    1270457.37\n",
      "2            Toys    1244562.25\n",
      "3  Home & Kitchen    1235731.41\n",
      "4        Clothing    1235219.66\n",
      "5          Beauty    1231951.86\n"
     ]
    }
   ],
   "source": [
    "#Estimate product cost and profit\n",
    "df[\"Estimated_Cost\"] = 0.70 * df[\"PricePerUnit\"] * df[\"Quantity\"]\n",
    "df[\"Estimated_Profit\"] = df[\"TotalPrice\"] - df[\"Estimated_Cost\"]\n",
    "\n",
    "#Aggregate total profit by category\n",
    "profit_by_category = (\n",
    "    df.groupby(\"ProductCategory\")[\"Estimated_Profit\"]\n",
    "    .sum()\n",
    "    .reset_index(name=\"Total_Profit\")\n",
    "    .sort_values(by=\"Total_Profit\", ascending=False)\n",
    ")\n",
    "\n",
    "#Identify top 3 and bottom 3 categories\n",
    "top_3 = profit_by_category.head(3)\n",
    "bottom_3 = profit_by_category.tail(3)\n",
    "\n",
    "result = pd.concat([top_3, bottom_3], axis=0).reset_index(drop=True)\n",
    "result[\"Total_Profit\"] = result[\"Total_Profit\"].round(2)\n",
    "\n",
    "print(result)"
   ]
  },
  {
   "cell_type": "markdown",
   "id": "bb5525c9-a6e3-4265-93d3-a844b5d337f6",
   "metadata": {},
   "source": [
    "**Business Insights**\n",
    "1. The most and least profitable categorie.\n",
    "2. Factor in return losses."
   ]
  },
  {
   "cell_type": "markdown",
   "id": "377a2692-26c2-43b0-b022-ea67cbe59d8e",
   "metadata": {},
   "source": [
    "**Engineer Order Completion Flag and Analyze Seller Fulfillment Efficiency**\n",
    "- Question – 16 :\n",
    "- To assess seller reliability, operations teams want a metric that reflects the fulfillment \n",
    "efficiency of each seller. Begin by engineering a new feature: an Order Completion \n",
    "Flag which is True only if the delivery status is “Delivered”. Then, calculate the Order \n",
    "Completion Rate (%) for each seller by dividing completed orders by total orders. Sort \n",
    "the sellers from best to worst based on this fulfillment metric."
   ]
  },
  {
   "cell_type": "code",
   "execution_count": 67,
   "id": "af910c07-2873-4a01-9929-d4d4e0b812b6",
   "metadata": {},
   "outputs": [
    {
     "name": "stdout",
     "output_type": "stream",
     "text": [
      "    SellerID  Total_Orders  Completed_Orders  Completion_Rate_%\n",
      "78       278           394               120              30.46\n",
      "98       298           390               114              29.23\n",
      "10       210           404               118              29.21\n",
      "70       270           384               111              28.91\n",
      "85       285           417               119              28.54\n",
      "90       290           374               106              28.34\n",
      "33       233           387               109              28.17\n",
      "64       264           398               112              28.14\n",
      "13       213           410               115              28.05\n",
      "89       289           435               122              28.05\n"
     ]
    }
   ],
   "source": [
    "#Create Order Completion Flag\n",
    "df[\"Order_Completed\"] = df[\"DeliveryStatus\"].apply(lambda x: True if x == \"Delivered\" else False)\n",
    "\n",
    "#Group by SellerID to calculate completion rate\n",
    "seller_fulfillment = (\n",
    "    df.groupby(\"SellerID\")\n",
    "    .agg(\n",
    "        Total_Orders=(\"OrderID\", \"count\"),\n",
    "        Completed_Orders=(\"Order_Completed\", \"sum\")\n",
    "    )\n",
    "    .reset_index()\n",
    ")\n",
    "\n",
    "#Calculate completion rate %\n",
    "seller_fulfillment[\"Completion_Rate_%\"] = (\n",
    "    100 * seller_fulfillment[\"Completed_Orders\"] / seller_fulfillment[\"Total_Orders\"]\n",
    ").round(2)\n",
    "\n",
    "#Sort from best to worst\n",
    "seller_fulfillment = seller_fulfillment.sort_values(by=\"Completion_Rate_%\", ascending=False)\n",
    "\n",
    "print(seller_fulfillment.head(10))  # top 10 reliable sellers"
   ]
  },
  {
   "cell_type": "markdown",
   "id": "b1882994-7b91-453e-a8dc-a7d289211f80",
   "metadata": {},
   "source": [
    "**Business Insights**\n",
    "1. Engineer a new column Order_Completed — True only if DeliveryStatus == 'Delivered'.\n",
    "2. Group by SellerID to calculate Order Completion Rate.\n",
    "3. Sort sellers from best to worst based on fulfillment."
   ]
  },
  {
   "cell_type": "markdown",
   "id": "9feda0bc-ac7d-438e-bec5-58c5f0541519",
   "metadata": {},
   "source": [
    "**Determine Category-Wise Revenue Growth Year Over Year.**\n",
    "- Question – 17 :\n",
    "- Understanding growth trends across product categories helps in strategic investment \n",
    "decisions. The executive team is interested in knowing which product categories are \n",
    "showing positive or negative revenue growth year over year. Calculate the total \n",
    "revenue per category for each year, and then derive a feature for Year-over-Year (YoY) \n",
    "Growth (%) to highlight accelerating or declining segments."
   ]
  },
  {
   "cell_type": "code",
   "execution_count": 66,
   "id": "34bfbe1c-7a13-468c-ac8b-d3f5f603cc76",
   "metadata": {},
   "outputs": [
    {
     "name": "stdout",
     "output_type": "stream",
     "text": [
      "   ProductCategory  Year  Total_Revenue  YoY_Growth_%\n",
      "0           Beauty  2022   2.329629e+06           NaN\n",
      "1           Beauty  2023   2.320030e+06         -0.41\n",
      "2           Beauty  2024   2.348137e+06          1.21\n",
      "3            Books  2022   2.397491e+06           NaN\n",
      "4            Books  2023   2.429950e+06          1.35\n",
      "5            Books  2024   2.415745e+06         -0.58\n",
      "6         Clothing  2022   2.438307e+06           NaN\n",
      "7         Clothing  2023   2.351372e+06         -3.57\n",
      "8         Clothing  2024   2.321888e+06         -1.25\n",
      "9      Electronics  2022   2.372034e+06           NaN\n",
      "10     Electronics  2023   2.372961e+06          0.04\n",
      "11     Electronics  2024   2.385747e+06          0.54\n",
      "12  Home & Kitchen  2022   2.450911e+06           NaN\n",
      "13  Home & Kitchen  2023   2.346206e+06         -4.27\n",
      "14  Home & Kitchen  2024   2.195802e+06         -6.41\n",
      "15            Toys  2022   2.386865e+06           NaN\n",
      "16            Toys  2023   2.355332e+06         -1.32\n",
      "17            Toys  2024   2.334869e+06         -0.87\n"
     ]
    }
   ],
   "source": [
    "# Extract Year from OrderDate\n",
    "df[\"Year\"] = df[\"OrderDate\"].dt.year\n",
    "\n",
    "#Aggregate total revenue per ProductCategory per Year\n",
    "category_yearly_revenue = (\n",
    "    df.groupby([\"ProductCategory\", \"Year\"])[\"TotalPrice\"]\n",
    "    .sum()\n",
    "    .reset_index(name=\"Total_Revenue\")\n",
    "    .sort_values(by=[\"ProductCategory\", \"Year\"])\n",
    ")\n",
    "\n",
    "#Calculate YoY Growth % for each category\n",
    "category_yearly_revenue[\"YoY_Growth_%\"] = (\n",
    "    category_yearly_revenue\n",
    "    .groupby(\"ProductCategory\")[\"Total_Revenue\"]\n",
    "    .pct_change() * 100\n",
    ").round(2)\n",
    "\n",
    "#\n",
    "print(category_yearly_revenue)"
   ]
  },
  {
   "cell_type": "markdown",
   "id": "9054840d-5574-4a46-ae96-a5d4ab9645b7",
   "metadata": {},
   "source": [
    "**Business Insights**\n",
    "\n",
    "1. Plot this as a line chart showing revenue growth trends.\n",
    "2. Filter only negative or positive growth categories."
   ]
  },
  {
   "cell_type": "markdown",
   "id": "984a4230-20c0-45dd-ad16-d27c49afb67e",
   "metadata": {},
   "source": [
    "**Use List Comprehension to Classify Products Based on Price Ranges for Marketing Segmentation.**\n",
    "- Question – 18 :\n",
    "- To drive targeted pricing campaigns, the marketing team wants products categorized \n",
    "based on their unit price. Create a new column that classifies each product into Low, \n",
    "Mid, or High price segments using list comprehension. Then, analyze how much total \n",
    "revenue each segment contributes to the business. This helps in targeting different \n",
    "customer segments effectively.\n",
    "Low: PricePerUnit < ₹100\n",
    "Mid: ₹100 ≤ PricePerUnit ≤ ₹300\n",
    "High: PricePerUnit > ₹300*/"
   ]
  },
  {
   "cell_type": "code",
   "execution_count": 65,
   "id": "90df98f6-b1c0-4263-8078-ed4501885cf1",
   "metadata": {},
   "outputs": [
    {
     "name": "stdout",
     "output_type": "stream",
     "text": [
      "  PriceSegment  Total_Revenue  Revenue_Contribution_%\n",
      "0         High   2.730895e+07                   64.18\n",
      "2          Mid   1.353792e+07                   31.81\n",
      "1          Low   1.706408e+06                    4.01\n"
     ]
    }
   ],
   "source": [
    "#Create 'PriceSegment' using list comprehension\n",
    "df[\"PriceSegment\"] = [\n",
    "    \"Low\" if price < 100 \n",
    "    else \"Mid\" if 100 <= price <= 300 \n",
    "    else \"High\"\n",
    "    for price in df[\"PricePerUnit\"]\n",
    "]\n",
    "\n",
    "#Analyze revenue contribution by each segment\n",
    "segment_revenue = (\n",
    "    df.groupby(\"PriceSegment\")[\"TotalPrice\"]\n",
    "    .sum()\n",
    "    .reset_index(name=\"Total_Revenue\")\n",
    ")\n",
    "\n",
    "#Add % contribution for context\n",
    "total_revenue = segment_revenue[\"Total_Revenue\"].sum()\n",
    "segment_revenue[\"Revenue_Contribution_%\"] = (\n",
    "    100 * segment_revenue[\"Total_Revenue\"] / total_revenue\n",
    ").round(2)\n",
    "\n",
    "print(segment_revenue.sort_values(by=\"Revenue_Contribution_%\", ascending=False))"
   ]
  },
  {
   "cell_type": "markdown",
   "id": "cdcd6d95-71e4-4e6b-a40d-0f8aba27ac81",
   "metadata": {},
   "source": [
    "**Business Insights**\n",
    "1. Visualize this with a pie chart or bar plot for reporting!"
   ]
  },
  {
   "cell_type": "markdown",
   "id": "258d9b81-b986-42ef-854c-e64c2fad9efe",
   "metadata": {},
   "source": [
    "**Identify the Return Rate of High-Value Orders Compared to Low-Value Orders.**\n",
    "Question – 19 :\n",
    "- Customer behavior can vary significantly based on the value of a transaction. The \n",
    "operations and fraud detection teams want to compare the return/cancel rate of \n",
    "high-value orders (orders above the 75th percentile) with that of low-value orders \n",
    "(orders below the 25th percentile). This can help uncover patterns such as abuse of \n",
    "returns or product dissatisfaction in expensive or cheap items.\n"
   ]
  },
  {
   "cell_type": "code",
   "execution_count": 57,
   "id": "98727984-f219-4a63-b8b8-abfdc33ecf77",
   "metadata": {},
   "outputs": [
    {
     "name": "stdout",
     "output_type": "stream",
     "text": [
      "  OrderValueBand  Total_Orders  Returned_Orders  Return_Rate_%\n",
      "0           High         10000             5036          50.36\n",
      "1            Low         10000             5022          50.22\n"
     ]
    }
   ],
   "source": [
    "#Calculate percentiles\n",
    "\n",
    "q25 = df[\"TotalPrice\"].quantile(0.25)\n",
    "q75 = df[\"TotalPrice\"].quantile(0.75)\n",
    "\n",
    "#Classify order value bands\n",
    "df[\"OrderValueBand\"] = [\n",
    "    \"Low\" if price <= q25 \n",
    "    else \"High\" if price >= q75 \n",
    "    else \"Mid\"\n",
    "    for price in df[\"TotalPrice\"]\n",
    "]\n",
    "\n",
    "#Flag return/cancel orders\n",
    "df[\"Is_Returned\"] = df[\"DeliveryStatus\"].isin([\"Returned\", \"Cancelled\"]).astype(int)\n",
    "\n",
    "#Analyze return rate by order value band\n",
    "return_rate = (\n",
    "    df[df[\"OrderValueBand\"].isin([\"Low\", \"High\"])]\n",
    "    .groupby(\"OrderValueBand\")\n",
    "    .agg(\n",
    "        Total_Orders=(\"OrderID\", \"count\"),\n",
    "        Returned_Orders=(\"Is_Returned\", \"sum\")\n",
    "    )\n",
    "    .reset_index()\n",
    ")\n",
    "\n",
    "#Compute return/cancel rate (%)\n",
    "return_rate[\"Return_Rate_%\"] = (\n",
    "    100 * return_rate[\"Returned_Orders\"] / return_rate[\"Total_Orders\"]\n",
    ").round(2)\n",
    "\n",
    "# Display result\n",
    "print(return_rate.sort_values(by=\"OrderValueBand\"))"
   ]
  },
  {
   "cell_type": "markdown",
   "id": "6761f0ee-340c-4f30-97a0-f2e1e0ed801d",
   "metadata": {},
   "source": [
    "**Business Insight**\n",
    "1. Higher return rate in Low-value orders may indicate fraud or dissatisfaction.\n",
    "2. Lower return rate in High-value orders may show more serious buyers."
   ]
  },
  {
   "cell_type": "markdown",
   "id": "4be58084-8134-4ffb-9d95-2925826a0304",
   "metadata": {},
   "source": [
    "**Engineer Delivery Performance Bands and Analyze Their Impact on Customer Ratings.**\n",
    "- Question – 20 :\n",
    "- To improve last-mile delivery and customer satisfaction, the logistics team wants to \n",
    "understand how delivery time impacts customer ratings. Your task is to engineer a \n",
    "new feature called DeliveryPerformanceBand that classifies delivery speed as Fast \n",
    "(≤3 days), Moderate (4–7 days), or Slow (>7 days). Then analyze the average \n",
    "customer rating within each delivery band."
   ]
  },
  {
   "cell_type": "code",
   "execution_count": 59,
   "id": "60428ab9-be06-4b62-86b8-be9eea9e91a5",
   "metadata": {},
   "outputs": [
    {
     "name": "stdout",
     "output_type": "stream",
     "text": [
      "  DeliveryPerformanceBand  Avg_Customer_Rating\n",
      "1                Moderate                 3.01\n",
      "2                    Slow                 3.00\n",
      "0                    Fast                 2.99\n"
     ]
    }
   ],
   "source": [
    "#Create DeliveryPerformanceBand using list comprehension\n",
    "df[\"DeliveryPerformanceBand\"] = [\n",
    "    \"Fast\" if days <= 3 \n",
    "    else \"Moderate\" if days <= 7 \n",
    "    else \"Slow\"\n",
    "    for days in df[\"DeliveryTimeDays\"]\n",
    "]\n",
    "\n",
    "#Calculate average rating for each delivery band\n",
    "delivery_rating_analysis = (\n",
    "    df.groupby(\"DeliveryPerformanceBand\")[\"Rating\"]\n",
    "    .mean()\n",
    "    .reset_index(name=\"Avg_Customer_Rating\")\n",
    "    .sort_values(by=\"Avg_Customer_Rating\", ascending=False)\n",
    ")\n",
    "\n",
    "# Round for clarity\n",
    "delivery_rating_analysis[\"Avg_Customer_Rating\"] = delivery_rating_analysis[\"Avg_Customer_Rating\"].round(2)\n",
    "\n",
    "# Display result\n",
    "print(delivery_rating_analysis)"
   ]
  },
  {
   "cell_type": "markdown",
   "id": "e19bcf15-e915-442b-b344-99fe44ce65a7",
   "metadata": {},
   "source": [
    "**Business Insights**\n",
    "1. Higher ratings for fast delivery indicate better customer satisfaction.\n",
    "2. Poor ratings for slow deliveries highlight areas for logistics improvement."
   ]
  },
  {
   "cell_type": "markdown",
   "id": "2fa76060-4e07-41a5-81ee-9c1938d5cd67",
   "metadata": {},
   "source": [
    "**Engineer a Feature to Flag Peak Season Orders and Compare Revenue Contribution.**\n",
    "- Question – 21 :\n",
    "- The sales team suspects that a large chunk of revenue is concentrated during the \n",
    "peak seasons like festive quarters (Q4) or year-end sales. Your job is to engineer a \n",
    "new feature called IsPeakSeason based on the order quarter, where Q4 is considered \n",
    "peak. Then calculate the total revenue and number of orders from peak vs. non-peak \n",
    "periods to validate the hypothesis."
   ]
  },
  {
   "cell_type": "code",
   "execution_count": 74,
   "id": "033a1789-2dbc-4f69-86b5-21018ed97c06",
   "metadata": {},
   "outputs": [
    {
     "name": "stdout",
     "output_type": "stream",
     "text": [
      "      Season  Total_Revenue  Number_of_Orders\n",
      "0   Non-Peak   3.192116e+07             30023\n",
      "1  Peak (Q4)   1.063212e+07              9977\n"
     ]
    }
   ],
   "source": [
    "#Extract Quarter from OrderDate\n",
    "df[\"Quarter\"] = df[\"OrderDate\"].dt.quarter\n",
    "\n",
    "#Create IsPeakSeason flag (Q4 is peak)\n",
    "df[\"IsPeakSeason\"] = df[\"Quarter\"] == 4\n",
    "\n",
    "#Group by Peak/Non-Peak and compute revenue and order count\n",
    "peak_season_analysis = (\n",
    "    df.groupby(\"IsPeakSeason\")\n",
    "    .agg(\n",
    "        Total_Revenue=(\"TotalPrice\", \"sum\"),\n",
    "        Number_of_Orders=(\"OrderID\", \"count\")\n",
    "    )\n",
    "    .reset_index()\n",
    ")\n",
    "\n",
    "#Rename True/False for clarity\n",
    "peak_season_analysis[\"Season\"] = peak_season_analysis[\"IsPeakSeason\"].map({True: \"Peak (Q4)\", False: \"Non-Peak\"})\n",
    "\n",
    "peak_season_analysis = peak_season_analysis[[\"Season\", \"Total_Revenue\", \"Number_of_Orders\"]]\n",
    "\n",
    "print(peak_season_analysis)\n"
   ]
  },
  {
   "cell_type": "markdown",
   "id": "db52bc81-be3c-44b9-b734-56e7a0b2e0ef",
   "metadata": {},
   "source": [
    "**Business insights**\n",
    "1. If Q4 revenue > Non-Peak, it confirms the sales team’s suspicion.\n",
    "2. This can justify campaigns, discounts, or logistics planning during festive periods."
   ]
  },
  {
   "cell_type": "markdown",
   "id": "dd99820a-db40-4817-9ba3-5a304f068747",
   "metadata": {},
   "source": [
    "**Perform Multi-Metric Performance Analysis of Each Product Category**\n",
    "- Question – 22 :\n",
    "- The executive dashboard needs a composite view of each product category's \n",
    "business performance. You are required to compile a table showing the following for \n",
    "each category:\n",
    "Total Revenue\n",
    "Total Quantity Sold\n",
    "Average Rating\n",
    "Return/Cancel Rate\n",
    "- This multi-metric view will help the leadership team identify not just top-selling \n",
    "categories, but also the ones that balance revenue, satisfaction, and operational \n",
    "efficiency"
   ]
  },
  {
   "cell_type": "code",
   "execution_count": 73,
   "id": "6cf9353e-96b4-46bc-9efe-51c7d3a94768",
   "metadata": {},
   "outputs": [
    {
     "name": "stdout",
     "output_type": "stream",
     "text": [
      "  ProductCategory  Total_Revenue  Total_Quantity_Sold  Average_Rating  \\\n",
      "1           Books   7.243186e+06                33712            3.01   \n",
      "3     Electronics   7.130742e+06                32886            2.99   \n",
      "2        Clothing   7.111567e+06                33529            3.00   \n",
      "5            Toys   7.077066e+06                32783            3.00   \n",
      "0          Beauty   6.997797e+06                33041            3.01   \n",
      "4  Home & Kitchen   6.992920e+06                33089            3.00   \n",
      "\n",
      "   Return_Cancel_Rate_%  \n",
      "1                 49.67  \n",
      "3                 50.67  \n",
      "2                 50.07  \n",
      "5                 50.91  \n",
      "0                 49.23  \n",
      "4                 49.76  \n"
     ]
    }
   ],
   "source": [
    "# Create a return/cancel flag\n",
    "df[\"Is_Returned\"] = df[\"DeliveryStatus\"].isin([\"Returned\", \"Cancelled\"]).astype(int)\n",
    "\n",
    "#Group by ProductCategory and calculate metrics\n",
    "category_performance = (\n",
    "    df.groupby(\"ProductCategory\")\n",
    "    .agg(\n",
    "        Total_Revenue=(\"TotalPrice\", \"sum\"),\n",
    "        Total_Quantity_Sold=(\"Quantity\", \"sum\"),\n",
    "        Average_Rating=(\"Rating\", \"mean\"),\n",
    "        Total_Orders=(\"OrderID\", \"count\"),\n",
    "        Returned_Orders=(\"Is_Returned\", \"sum\")\n",
    "    )\n",
    "    .reset_index()\n",
    ")\n",
    "\n",
    "#Calculate Return/Cancel Rate (%)\n",
    "category_performance[\"Return_Cancel_Rate_%\"] = (\n",
    "    100 * category_performance[\"Returned_Orders\"] / category_performance[\"Total_Orders\"]\n",
    ").round(2)\n",
    "\n",
    "\n",
    "category_performance[\"Average_Rating\"] = category_performance[\"Average_Rating\"].round(2)\n",
    "category_performance = category_performance.drop(columns=[\"Total_Orders\", \"Returned_Orders\"])\n",
    "\n",
    "print(category_performance.sort_values(by=\"Total_Revenue\", ascending=False))"
   ]
  },
  {
   "cell_type": "markdown",
   "id": "021ef4fd-0814-4b00-91d9-7e6491f12c3d",
   "metadata": {},
   "source": [
    "**Business Insights**\n",
    "1. Add visualizations (e.g., heatmap, radar chart)\n",
    "2. Filter for top-performing or underperforming categories based on custom rules."
   ]
  },
  {
   "cell_type": "markdown",
   "id": "99f57b44-d781-4bf1-837b-692cd3e3cf80",
   "metadata": {},
   "source": [
    "**Segment Sellers by Revenue Tiers and Analyze Their Average Completion Rate**\n",
    "- Question – 23 :\n",
    "- To design tiered incentive programs for marketplace sellers, the business team needs to \n",
    "segment sellers into Low, Mid, and High Revenue groups. Then, calculate the average order \n",
    "completion rate within each revenue tier. This analysis will reveal whether top sellers are \n",
    "also the most reliable, or if mid/low-tier sellers outperform them in fulfillment quality.\n"
   ]
  },
  {
   "cell_type": "code",
   "execution_count": null,
   "id": "d5ff4626-a45b-4caa-a3cc-90d13150c04c",
   "metadata": {},
   "outputs": [],
   "source": [
    "# Create order completion flag\n",
    "df[\"Order_Completed\"] = df[\"DeliveryStatus\"].eq(\"Delivered\").astype(int)\n",
    "\n",
    "# Calculate total revenue and completion rate per seller\n",
    "seller_stats = (\n",
    "    df.groupby(\"SellerID\")\n",
    "    .agg(\n",
    "        Total_Revenue=(\"TotalPrice\", \"sum\"),\n",
    "        Total_Orders=(\"OrderID\", \"count\"),\n",
    "        Completed_Orders=(\"Order_Completed\", \"sum\")\n",
    "    )\n",
    "    .reset_index()\n",
    ")\n",
    "\n",
    "# Calculate completion rate (%)\n",
    "seller_stats[\"Completion_Rate_%\"] = (\n",
    "    100 * seller_stats[\"Completed_Orders\"] / seller_stats[\"Total_Orders\"]\n",
    ").round(2)\n",
    "\n",
    "# Segment sellers into revenue tiers using quantiles\n",
    "q1 = seller_stats[\"Total_Revenue\"].quantile(0.33)\n",
    "q2 = seller_stats[\"Total_Revenue\"].quantile(0.66)\n",
    "\n",
    "def segment_revenue_tier(revenue):\n",
    "    if revenue <= q1:\n",
    "        return \"Low\"\n",
    "    elif revenue <= q2:\n",
    "        return \"Mid\"\n",
    "    else:\n",
    "        return \"High\"\n",
    "\n",
    "seller_stats[\"Revenue_Tier\"] = seller_stats[\"Total_Revenue\"].apply(segment_revenue_tier)\n",
    "\n",
    "# Calculate average completion rate per revenue tier\n",
    "tier_analysis = (\n",
    "    seller_stats.groupby(\"Revenue_Tier\")[\"Completion_Rate_%\"]\n",
    "    .mean()\n",
    "    .reset_index(name=\"Avg_Completion_Rate_%\")\n",
    "    .sort_values(by=\"Avg_Completion_Rate_%\", ascending=False)\n",
    ")\n",
    "\n",
    "\n",
    "print(tier_analysis)"
   ]
  },
  {
   "cell_type": "markdown",
   "id": "544a2e45-e1a3-4c6d-98f3-238a63a7f0f7",
   "metadata": {},
   "source": [
    "**Business Insights**\n",
    "1. Helps identify whether high-revenue sellers are also the most reliable.\n",
    "2. You can design tier-wise incentives based on fulfillment behavior."
   ]
  },
  {
   "cell_type": "markdown",
   "id": "8f88c958-85ce-4b72-8fc6-d7a614b1ab7a",
   "metadata": {},
   "source": [
    "**Engineer a Customer Frequency Band and Analyze Their Contribution to Revenue**\n",
    "- Question – 24 :\n",
    "- Customer frequency is a core driver of lifetime value. You are asked to engineer a \n",
    "new feature called CustomerFrequencyBand, categorizing customers based on the \n",
    "number of orders they’ve placed:\n",
    "Rare (1 order)\n",
    "Occasional (2–4 orders)\n",
    "Frequent (5+ orders)\n",
    "- Then, analyze how much revenue each customer band contributes. This insight will \n",
    "help the CRM team design personalized loyalty campaigns and better manage \n",
    "customer retention efforts.\n"
   ]
  },
  {
   "cell_type": "code",
   "execution_count": 72,
   "id": "6ba6bc56-1ae5-4994-bc44-52acd1061a09",
   "metadata": {},
   "outputs": [
    {
     "name": "stdout",
     "output_type": "stream",
     "text": [
      "  CustomerFrequencyBand  Total_Revenue  Revenue_Contribution_%\n",
      "0              Frequent   4.210631e+07                   98.95\n",
      "1            Occasional   4.469646e+05                    1.05\n"
     ]
    }
   ],
   "source": [
    "# Count orders per customer\n",
    "customer_order_counts = (\n",
    "    df.groupby(\"CustomerID\")[\"OrderID\"]\n",
    "    .count()\n",
    "    .reset_index(name=\"Total_Orders\")\n",
    ")\n",
    "\n",
    "# Categorize frequency bands\n",
    "def get_frequency_band(n):\n",
    "    if n == 1:\n",
    "        return \"Rare\"\n",
    "    elif 2 <= n <= 4:\n",
    "        return \"Occasional\"\n",
    "    else:\n",
    "        return \"Frequent\"\n",
    "\n",
    "customer_order_counts[\"CustomerFrequencyBand\"] = customer_order_counts[\"Total_Orders\"].apply(get_frequency_band)\n",
    "\n",
    "#  Merge band info back to main df\n",
    "df = df.merge(customer_order_counts[[\"CustomerID\", \"CustomerFrequencyBand\"]], on=\"CustomerID\", how=\"left\")\n",
    "\n",
    "# Analyze revenue contribution by band\n",
    "frequency_revenue = (\n",
    "    df.groupby(\"CustomerFrequencyBand\")[\"TotalPrice\"]\n",
    "    .sum()\n",
    "    .reset_index(name=\"Total_Revenue\")\n",
    ")\n",
    "\n",
    "# Add percentage contribution\n",
    "total_revenue = frequency_revenue[\"Total_Revenue\"].sum()\n",
    "frequency_revenue[\"Revenue_Contribution_%\"] = (\n",
    "    100 * frequency_revenue[\"Total_Revenue\"] / total_revenue\n",
    ").round(2)\n",
    "\n",
    "print(frequency_revenue.sort_values(by=\"Revenue_Contribution_%\", ascending=False))"
   ]
  },
  {
   "cell_type": "markdown",
   "id": "0355843f-d6fd-4a5d-a730-fb4c9f44a80c",
   "metadata": {},
   "source": [
    "**Business insights**\n",
    "1. Frequent customers are the most valuable — deserving loyalty perks.\n",
    "2. Rare buyers may need reactivation campaigns."
   ]
  },
  {
   "cell_type": "markdown",
   "id": "5ba0a524-2409-49f2-835d-c2731afb3a78",
   "metadata": {},
   "source": [
    "**Evaluate Seller-Level Discounting Behavior and Its Correlation with Revenue**\n",
    "- Question – 25 :\n",
    "- Discounting is often used as a lever to boost sales—but excessive discounting may \n",
    "eat into profits. The finance team wants to assess whether sellers offering higher \n",
    "average discounts are generating proportionately higher revenue. Calculate average \n",
    "discount percentage and total revenue for each seller, and rank them to identify \n",
    "outliers—sellers with high discounts but low revenue (or vice versa).\n"
   ]
  },
  {
   "cell_type": "code",
   "execution_count": 71,
   "id": "aac53afd-683c-4a65-b6ea-0bd095a8a3e6",
   "metadata": {},
   "outputs": [
    {
     "name": "stdout",
     "output_type": "stream",
     "text": [
      "    SellerID  Avg_Discount_Percentage  Total_Revenue\n",
      "94       294                     0.16      374658.91\n",
      "81       281                     0.16      392197.71\n",
      "95       295                     0.16      396169.67\n",
      "52       252                     0.16      400681.41\n",
      "77       277                     0.16      405410.66\n",
      "..       ...                      ...            ...\n",
      "53       253                     0.14      435962.71\n",
      "75       275                     0.14      437785.65\n",
      "71       271                     0.14      441022.46\n",
      "65       265                     0.14      451423.08\n",
      "79       279                     0.14      469304.87\n",
      "\n",
      "[100 rows x 3 columns]\n"
     ]
    }
   ],
   "source": [
    "# Group by SellerID to get average discount and total revenue\n",
    "seller_discount_analysis = (\n",
    "    df.groupby(\"SellerID\")\n",
    "    .agg(\n",
    "        Avg_Discount_Percentage=(\"Discount\", \"mean\"),\n",
    "        Total_Revenue=(\"TotalPrice\", \"sum\")\n",
    "    )\n",
    "    .reset_index()\n",
    ")\n",
    "\n",
    "# Round for readability\n",
    "seller_discount_analysis[\"Avg_Discount_Percentage\"] = seller_discount_analysis[\"Avg_Discount_Percentage\"].round(2)\n",
    "seller_discount_analysis[\"Total_Revenue\"] = seller_discount_analysis[\"Total_Revenue\"].round(2)\n",
    "\n",
    "# Sort by discount or revenue (optional)\n",
    "# To find high-discount low-revenue sellers\n",
    "seller_discount_analysis = seller_discount_analysis.sort_values(by=[\"Avg_Discount_Percentage\", \"Total_Revenue\"], ascending=[False, True])\n",
    "\n",
    "print(seller_discount_analysis)"
   ]
  },
  {
   "cell_type": "markdown",
   "id": "b905c6a9-4592-4fde-ad52-04d4d64b8b8d",
   "metadata": {},
   "source": [
    "**Business Insights**\n",
    "1. Sellers in top-left (high discount, low revenue) may need review\n",
    "2. Sellers with low discount, high revenue may have strong brand power"
   ]
  },
  {
   "cell_type": "code",
   "execution_count": null,
   "id": "54158d8b-447f-43b5-9045-346c954dc8ec",
   "metadata": {},
   "outputs": [],
   "source": []
  }
 ],
 "metadata": {
  "kernelspec": {
   "display_name": "Python 3 (ipykernel)",
   "language": "python",
   "name": "python3"
  },
  "language_info": {
   "codemirror_mode": {
    "name": "ipython",
    "version": 3
   },
   "file_extension": ".py",
   "mimetype": "text/x-python",
   "name": "python",
   "nbconvert_exporter": "python",
   "pygments_lexer": "ipython3",
   "version": "3.12.7"
  }
 },
 "nbformat": 4,
 "nbformat_minor": 5
}
